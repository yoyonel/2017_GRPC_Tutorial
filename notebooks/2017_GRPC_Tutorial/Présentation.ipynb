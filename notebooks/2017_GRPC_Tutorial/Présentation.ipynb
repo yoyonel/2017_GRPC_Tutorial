{
 "cells": [
  {
   "cell_type": "code",
   "execution_count": 24,
   "metadata": {
    "hideCode": false,
    "hideOutput": false,
    "hidePrompt": true,
    "slideshow": {
     "slide_type": "slide"
    }
   },
   "outputs": [
    {
     "name": "stdout",
     "output_type": "stream",
     "text": [
      "\u001b[01;34m../../src/tutorial/grpc/geodatas\u001b[00m\r\n",
      "├── __init__.py\r\n",
      "├── \u001b[01;34mcommon\u001b[00m\r\n",
      "│   ├── __init__.py\r\n",
      "│   └── base.py\r\n",
      "├── \u001b[01;34mmodels\u001b[00m\r\n",
      "│   ├── __init__.py\r\n",
      "│   ├── ogrgeojson.py\r\n",
      "│   └── thing.py\r\n",
      "├── \u001b[01;34mproto\u001b[00m\r\n",
      "│   ├── __init__.py\r\n",
      "│   ├── search.proto\r\n",
      "│   ├── search_pb2.py\r\n",
      "│   └── search_pb2_grpc.py\r\n",
      "├── \u001b[01;34mrpc\u001b[00m\r\n",
      "│   ├── __init__.py\r\n",
      "│   └── search_servicer.py\r\n",
      "├── search_client.py\r\n",
      "├── search_server.py\r\n",
      "└── \u001b[01;34mtools\u001b[00m\r\n",
      "    ├── __init__.py\r\n",
      "    └── service_discovery.py\r\n",
      "\r\n",
      "5 directories, 16 files\r\n"
     ]
    }
   ],
   "source": [
    "!tree -C ../../src/tutorial/grpc/geodatas"
   ]
  },
  {
   "cell_type": "code",
   "execution_count": null,
   "metadata": {
    "slideshow": {
     "slide_type": "subslide"
    }
   },
   "outputs": [],
   "source": [
    "# %load ../../src/tutorial/grpc/geodatas/search_client.py\n",
    "\"\"\"\n",
    "\"\"\"\n",
    "import argparse\n",
    "import grpc\n",
    "import logging\n",
    "\n",
    "from tutorial.grpc.geodatas.proto import search_pb2_grpc, search_pb2\n",
    "from tutorial.grpc.geodatas.tools.service_discovery import find_service_with_consul\n",
    "\n",
    "logger = logging.getLogger(__name__)\n",
    "\n",
    "\n",
    "def get_search_rpc_stub(ip, port):\n",
    "    [...]\n",
    "    return stub\n",
    "\n",
    "\n",
    "def process(args):\n",
    "    [...]\n",
    "\n",
    "\n",
    "def main():\n",
    "    args = parse_arguments()\n",
    "    process(args)\n",
    "\n",
    "\n",
    "if __name__ == '__main__':\n",
    "    logging.basicConfig(\n",
    "        format='%(asctime)s - %(name)s - %(levelname)s - %(message)s', level=logging.DEBUG)\n",
    "    logger.setLevel(logging.DEBUG)\n",
    "\n",
    "    main()"
   ]
  }
 ],
 "metadata": {
  "celltoolbar": "Slideshow",
  "kernelspec": {
   "display_name": "2017_GRPC_Tutorial",
   "language": "python",
   "name": "2017_grpc_tutorial"
  },
  "language_info": {
   "codemirror_mode": {
    "name": "ipython",
    "version": 3
   },
   "file_extension": ".py",
   "mimetype": "text/x-python",
   "name": "python",
   "nbconvert_exporter": "python",
   "pygments_lexer": "ipython3",
   "version": "3.7.2"
  }
 },
 "nbformat": 4,
 "nbformat_minor": 2
}
