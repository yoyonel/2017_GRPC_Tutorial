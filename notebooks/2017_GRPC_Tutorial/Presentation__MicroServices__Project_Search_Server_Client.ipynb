{
 "cells": [
  {
   "cell_type": "markdown",
   "metadata": {
    "slideshow": {
     "slide_type": "slide"
    }
   },
   "source": [
    "# Micro-Services: Projects"
   ]
  },
  {
   "cell_type": "markdown",
   "metadata": {
    "slideshow": {
     "slide_type": "subslide"
    }
   },
   "source": [
    "## LI3DS (Reseach - dev)"
   ]
  },
  {
   "cell_type": "markdown",
   "metadata": {
    "slideshow": {
     "slide_type": "-"
    }
   },
   "source": [
    "<center>\n",
    "<img src=\"./datas/MS-LI3DS.png\" style=\"width: 1280px; height: auto;\">\n",
    "</center>"
   ]
  },
  {
   "cell_type": "markdown",
   "metadata": {
    "slideshow": {
     "slide_type": "slide"
    }
   },
   "source": [
    "# Stack Python, GIS"
   ]
  },
  {
   "cell_type": "markdown",
   "metadata": {
    "hidePrompt": true,
    "slideshow": {
     "slide_type": "-"
    }
   },
   "source": [
    "<center>\n",
    "<img src=\"./datas/Stack-Python,GIS.png\" style=\"width: 1280px; height: auto;\">\n",
    "</center>"
   ]
  },
  {
   "cell_type": "markdown",
   "metadata": {
    "slideshow": {
     "slide_type": "subslide"
    }
   },
   "source": [
    "# Stack Infra (W.I.P.)"
   ]
  },
  {
   "cell_type": "markdown",
   "metadata": {
    "slideshow": {
     "slide_type": "-"
    }
   },
   "source": [
    "<center>\n",
    "<img src=\"./datas/Stack-Infra.png\" style=\"width: 1280px; height: auto;\">\n",
    "</center>"
   ]
  },
  {
   "cell_type": "markdown",
   "metadata": {
    "slideshow": {
     "slide_type": "slide"
    }
   },
   "source": [
    "## Project stucture"
   ]
  },
  {
   "cell_type": "code",
   "execution_count": null,
   "metadata": {
    "hidePrompt": true,
    "slideshow": {
     "slide_type": "-"
    }
   },
   "outputs": [],
   "source": [
    "# Project structure\n",
    "├── MANIFEST.in\n",
    "├── Makefile\n",
    "├── Pipfile\n",
    "├── docker\n",
    "│   ├── jupyter\n",
    "│   │   └── Dockerfile\n",
    "│   └── postgis\n",
    "│       ├── Dockerfile\n",
    "│       └── init.sql\n",
    "├── docker-compose.yml\n",
    "├── init_pg.sh\n",
    "├── postgis\n",
    "│   └── data\n",
    "├── pytest.ini\n",
    "├── set_env.sh\n",
    "├── setup.py\n",
    "├── src\n",
    "│   ├── tutorial\n",
    "│   │   ├── __init__.py\n",
    "│   │   └── grpc\n",
    "│   │       ├── __init__.py\n",
    "│   │       └── geodatas\n",
    "│   │           ├── __init__.py\n",
    "│   │           [...]\n",
    "└── tests\n",
    "    ├── __init__.py\n",
    "    [...]"
   ]
  },
  {
   "cell_type": "markdown",
   "metadata": {
    "hideOutput": true,
    "hidePrompt": true,
    "slideshow": {
     "slide_type": "slide"
    }
   },
   "source": [
    "## Infra - Docker-compose (W.I.P.)"
   ]
  },
  {
   "cell_type": "code",
   "execution_count": null,
   "metadata": {
    "hidePrompt": true,
    "slideshow": {
     "slide_type": "subslide"
    }
   },
   "outputs": [],
   "source": [
    "# %load ../../src/tutorial/grpc/geodatas/search_server.py\n",
    "version: '2'\n",
    "services:\n",
    "    db:\n",
    "      build: ./docker/postgis/\n",
    "      hostname: postgis\n",
    "      volumes:\n",
    "        - ./postgis:/var/lib/postgresql\n",
    "      ports:\n",
    "        - \"0.0.0.0:${TUTORIAL_GRPC_PG_PORT}:5432\"\n",
    "      environment:\n",
    "        - POSTGRES_USER:'docker'\n",
    "        [...]\n",
    "\n",
    "    graphite:\n",
    "      image: hopsoft/graphite-statsd\n",
    "      hostname: graphite\n",
    "      ports:\n",
    "        - \"0.0.0.0:80:80\"\n",
    "        [...]\n",
    "\n",
    "    consul:\n",
    "      image: consul\n",
    "      container_name: \"consul\"\n",
    "      hostname: \"consul\"\n",
    "      network_mode: \"host\" # aveux d'échec (temporaire) ;-)\n",
    "      command: [\"agent\", \"-server\", \"-ui\", \"-bootstrap\", \"-bind=127.0.0.1\"]"
   ]
  },
  {
   "cell_type": "markdown",
   "metadata": {
    "slideshow": {
     "slide_type": "slide"
    }
   },
   "source": [
    "## gRPC - Remote Procedure Calls\n",
    "\n",
    "- Open Source (from Google) - Apache 2.0\n",
    "- Framework RPC\n",
    "- HTTP/2 \n",
    "    - Focus on performances\n",
    "- Interface Protocol Langage --> Protocol Buffer aka Protobuf\n",
    "    - Multi-langages: C++, Python, Go, ...\n",
    "    - Binary Serialization/Deserialization"
   ]
  },
  {
   "cell_type": "markdown",
   "metadata": {
    "slideshow": {
     "slide_type": "subslide"
    }
   },
   "source": [
    "## gRPC - Communication modes\n",
    "\n",
    "<img src=\"./datas/landing-2.svg\">\n",
    "\n",
    "- Unary RPCs: 1-to-1  (*)\n",
    "- Streaming:\n",
    "    - Server side\n",
    "    - Client side\n",
    "    - Bi-directionnal"
   ]
  },
  {
   "cell_type": "markdown",
   "metadata": {
    "slideshow": {
     "slide_type": "subslide"
    }
   },
   "source": [
    "### gRPC - Messages definition"
   ]
  },
  {
   "cell_type": "code",
   "execution_count": null,
   "metadata": {
    "hidePrompt": true,
    "slideshow": {
     "slide_type": "-"
    }
   },
   "outputs": [],
   "source": [
    "# %load ./src/tutorial/grpc/geodatas/proto/search.proto\n",
    "syntax = \"proto3\";\n",
    "\n",
    "message SearchRequest {\n",
    "  string query = 1;\n",
    "  float lat = 4;\n",
    "  float lng = 5;\n",
    "  int32 page_number = 2;\n",
    "  int32 result_per_page = 3;\n",
    "}\n",
    "\n",
    "message SearchResponses {\n",
    "    repeated SearchResponse responses = 1;\n",
    "}\n",
    "\n",
    "message SearchResponse {\n",
    "    string response = 1;\n",
    "}\n",
    "\n",
    "message MonitorResponse {\n",
    "    int32 n_things = 1;\n",
    "}"
   ]
  },
  {
   "cell_type": "markdown",
   "metadata": {
    "slideshow": {
     "slide_type": "subslide"
    }
   },
   "source": [
    "### gRPC - Services definition"
   ]
  },
  {
   "cell_type": "code",
   "execution_count": null,
   "metadata": {
    "hidePrompt": true,
    "slideshow": {
     "slide_type": "-"
    }
   },
   "outputs": [],
   "source": [
    "# %load ./src/tutorial/grpc/geodatas/proto/search.proto\n",
    "syntax = \"proto3\";\n",
    "\n",
    "import \"google/protobuf/empty.proto\";\n",
    "\n",
    "[...]\n",
    "\n",
    "service Search {\n",
    "    rpc monitor(google.protobuf.Empty) returns (MonitorResponse) {}\n",
    "    rpc search(SearchRequest) returns (SearchResponses) {}\n",
    "    rpc search_thing(SearchRequest) returns (SearchResponses) {}\n",
    "}"
   ]
  },
  {
   "cell_type": "markdown",
   "metadata": {
    "slideshow": {
     "slide_type": "subslide"
    }
   },
   "source": [
    "### gRPC - Client and server code generation"
   ]
  },
  {
   "cell_type": "code",
   "execution_count": null,
   "metadata": {
    "hidePrompt": true,
    "slideshow": {
     "slide_type": "-"
    }
   },
   "outputs": [],
   "source": [
    "# %load ./setup.py\n",
    "class BuildPackageProtos(setuptools.Command):\n",
    "    \"\"\"Command to generate project *_pb2.py modules from proto files.\"\"\"\n",
    "\n",
    "    description = 'build grpc protobuf modules'\n",
    "    user_options = []\n",
    "\n",
    "    def initialize_options(self):\n",
    "        pass\n",
    "\n",
    "    def finalize_options(self):\n",
    "        pass\n",
    "\n",
    "    def run(self):\n",
    "        if GRPC_INSTALLED:\n",
    "            command.build_package_protos(self.distribution.package_dir[''])\n",
    "        else:\n",
    "            raise ModuleNotFoundError(\"grpcio-tools is needed in order to generate the proto classes\")"
   ]
  },
  {
   "cell_type": "markdown",
   "metadata": {
    "slideshow": {
     "slide_type": "subslide"
    }
   },
   "source": [
    "### gRPC - Client and server code generation"
   ]
  },
  {
   "cell_type": "code",
   "execution_count": null,
   "metadata": {
    "hidePrompt": true,
    "slideshow": {
     "slide_type": "-"
    }
   },
   "outputs": [],
   "source": [
    "# %load ./setup.py\n",
    "class BuildPyCommand(_build_py):\n",
    "    \"\"\"Custom build command.\"\"\"\n",
    "\n",
    "    def run(self):\n",
    "        self.run_command('build_proto_modules')\n",
    "        _build_py.run(self)\n",
    "        \n",
    "setup(\n",
    "    name='tutorial-grpc-geodatas',\n",
    "    [...]\n",
    "    install_requires=[\n",
    "        \"grpcio\"\n",
    "    ],\n",
    "    cmdclass={\n",
    "        'build_proto_modules': BuildPackageProtos\n",
    "    },\n",
    "    [...]\n",
    ")"
   ]
  },
  {
   "cell_type": "markdown",
   "metadata": {
    "slideshow": {
     "slide_type": "subslide"
    }
   },
   "source": [
    "### gRPC - Client and server code generation"
   ]
  },
  {
   "cell_type": "code",
   "execution_count": null,
   "metadata": {
    "hidePrompt": true,
    "slideshow": {
     "slide_type": "-"
    }
   },
   "outputs": [],
   "source": [
    "w# %load ./Makefile\n",
    "protos:\n",
    "\t@python setup.py build_proto_modules"
   ]
  },
  {
   "cell_type": "markdown",
   "metadata": {
    "slideshow": {
     "slide_type": "slide"
    }
   },
   "source": [
    "# Search Server"
   ]
  },
  {
   "cell_type": "code",
   "execution_count": null,
   "metadata": {
    "hideOutput": true,
    "hidePrompt": true,
    "slideshow": {
     "slide_type": "subslide"
    }
   },
   "outputs": [],
   "source": [
    "./src/tutorial/grpc/geodatas\n",
    "├── __init__.py\n",
    "├── common\n",
    "│   ├── __init__.py\n",
    "│   └── base.py <----------- (*)\n",
    "├── models\n",
    "│   ├── __init__.py\n",
    "│   ├── ogrgeojson.py <----- (*)\n",
    "│   └── thing.py <---------- (*)\n",
    "├── proto\n",
    "│   ├── __init__.py\n",
    "│   ├── search.proto >>-------┐\n",
    "│   ├── search_pb2.py <---- ((*))\n",
    "│   └── search_pb2_grpc.py  ((*))\n",
    "├── rpc\n",
    "│   ├── __init__.py\n",
    "│   └── search_servicer.py\n",
    "├── search_client.py \n",
    "├── search_server.py <------ (*)\n",
    "└── tools\n",
    "    ├── __init__.py\n",
    "    ├── geometry.py <------- (*)\n",
    "    ├── rpc_stub.py <------- (*)\n",
    "    └── service_discovery.py"
   ]
  },
  {
   "cell_type": "markdown",
   "metadata": {
    "hidePrompt": true,
    "slideshow": {
     "slide_type": "-"
    }
   },
   "source": [
    "- (*)   Files focus\n",
    "- ((*)) Generated files"
   ]
  },
  {
   "cell_type": "code",
   "execution_count": null,
   "metadata": {
    "hideOutput": true,
    "hidePrompt": true,
    "slideshow": {
     "slide_type": "subslide"
    }
   },
   "outputs": [],
   "source": [
    "../../src/tutorial/grpc/geodatas\n",
    "├── __init__.py\n",
    "├── common\n",
    "│   ├── __init__.py\n",
    "│   └── base.py              (*) - SQLAchemy: engine, Base, session\n",
    "├── models\n",
    "│   ├── __init__.py\n",
    "│   ├── ogrgeojson.py        (*) - SQLAchemy: reflective table\n",
    "│   └── thing.py             (*) - SQLAchemy: table creation\n",
    "├── proto\n",
    "│   ├── __init__.py\n",
    "│   ├── search.proto\n",
    "│   ├── search_pb2.py       ((*)) - gRPC: Messages definitions (generated from `search.proto`)\n",
    "│   └── search_pb2_grpc.py  ((*)) - gRPC: Services definitions (generated from `search.proto`)\n",
    "├── rpc\n",
    "│   ├── __init__.py\n",
    "│   └── search_servicer.py\n",
    "├── search_client.py \n",
    "├── search_server.py         (*) - Application: Search Server\n",
    "└── tools\n",
    "    ├── __init__.py\n",
    "    ├── geometry.py          (*) - GeoAlchemy/Shapely: helper for Position (lat, lng, srid) object\n",
    "    ├── rpc_stub.py          (*) - gRPC/Consul: helpers for stub generation\n",
    "    └── service_discovery.py"
   ]
  },
  {
   "cell_type": "markdown",
   "metadata": {
    "slideshow": {
     "slide_type": "slide"
    }
   },
   "source": [
    "## Application - Search Server"
   ]
  },
  {
   "cell_type": "markdown",
   "metadata": {
    "slideshow": {
     "slide_type": "subslide"
    }
   },
   "source": [
    "### Signals handler"
   ]
  },
  {
   "cell_type": "code",
   "execution_count": null,
   "metadata": {
    "hidePrompt": true,
    "slideshow": {
     "slide_type": "-"
    }
   },
   "outputs": [],
   "source": [
    "# %load ../../src/tutorial/grpc/geodatas/search_server.py\n",
    "import signal\n",
    "\n",
    "SIGNALS = [signal.SIGINT, signal.SIGTERM]\n",
    "\n",
    "\n",
    "def _signal_handler(_sig, _stack):\n",
    "    \"\"\" Empty signal handler used to override python default one \"\"\"\n",
    "    pass\n",
    "\n",
    "\n",
    "def serve(block=True, port: int = random.randint(50000, 59000)):\n",
    "    [...]\n",
    "    # Register signal handler, only if blocking\n",
    "    if block:\n",
    "        for sig in SIGNALS:\n",
    "            signal.signal(sig, _signal_handler)\n",
    "    [...]\n",
    "    # Wait for a signal before exiting\n",
    "    sig = signal.sigwait(SIGNALS)"
   ]
  },
  {
   "cell_type": "markdown",
   "metadata": {
    "slideshow": {
     "slide_type": "subslide"
    }
   },
   "source": [
    "### Search Server: gRPC --> instanciation, port attribution, RPC, ..."
   ]
  },
  {
   "cell_type": "code",
   "execution_count": null,
   "metadata": {
    "hidePrompt": true,
    "slideshow": {
     "slide_type": "-"
    }
   },
   "outputs": [],
   "source": [
    "# %load ../../src/tutorial/grpc/geodatas/search_server.py\n",
    "from concurrent import futures\n",
    "import grpc\n",
    "from tutorial.grpc.geodatas.rpc.search_servicer import SearchServicer\n",
    "from tutorial.grpc.geodatas.proto import search_pb2_grpc\n",
    "\n",
    "\n",
    "def serve(block=True, port: int = random.randint(50000, 59000)):\n",
    "    [...]\n",
    "    max_number_of_clients = 10\n",
    "    # Creates Server with which RPCs can be serviced\n",
    "    server = grpc.server(futures.ThreadPoolExecutor(max_workers=10),\n",
    "                         maximum_concurrent_rpcs=max_number_of_clients)\n",
    "    # Register Rpc Handlers with `SearchServicer` server\n",
    "    search_pb2_grpc.add_SearchServicer_to_server(SearchServicer(), server)\n",
    "\n",
    "    # Opens an insecure port for accepting RPCs.\n",
    "    grpc_host_and_port = f'[::]:{port}'\n",
    "    insecure_port = server.add_insecure_port(grpc_host_and_port)\n",
    "    if insecure_port == 0:\n",
    "        logger.error(f\"Failed to start gRPC server on {insecure_port}\")\n",
    "        raise ConnectionError\n",
    "    [...]"
   ]
  },
  {
   "cell_type": "markdown",
   "metadata": {
    "slideshow": {
     "slide_type": "subslide"
    }
   },
   "source": [
    "### Search Server: Consul [un]registration + Start Search Server (RPCs)"
   ]
  },
  {
   "cell_type": "code",
   "execution_count": null,
   "metadata": {
    "hidePrompt": true,
    "slideshow": {
     "slide_type": "-"
    }
   },
   "outputs": [],
   "source": [
    "# %load ../../src/tutorial/grpc/geodatas/search_server.py\n",
    "from tutorial.grpc.geodatas.tools.service_discovery import consuled\n",
    "\n",
    "\n",
    "def serve(block=True, port: int = random.randint(50000, 59000)):\n",
    "    [...]\n",
    "    with consuled(insecure_port):\n",
    "        logger.info(f\"Starting server on port {insecure_port}...\")\n",
    "        server.start()\n",
    "        logger.info(\"Ready and waiting for connections.\")\n",
    "\n",
    "        if not block:\n",
    "            return server, insecure_port\n",
    "\n",
    "        # Wait for a signal before exiting\n",
    "        [...]\n",
    "\n",
    "        server.stop(5).wait()"
   ]
  },
  {
   "cell_type": "markdown",
   "metadata": {
    "slideshow": {
     "slide_type": "slide"
    }
   },
   "source": [
    "## Search Servicer: Implementation --> Business Logic"
   ]
  },
  {
   "cell_type": "code",
   "execution_count": null,
   "metadata": {
    "hidePrompt": true
   },
   "outputs": [],
   "source": [
    "# %load ../../src/tutorial/grpc/geodatas/rpc/search_servicer.py\n",
    "class SearchServicer(search_pb2_grpc.SearchServicer):\n",
    "    stat = statsd.StatsClient('localhost', 8125)\n",
    "\n",
    "    @stat.timer(\"search\")\n",
    "    def search(self, request: search_pb2.SearchRequest, _context) -> search_pb2.SearchResponses:\n",
    "        [...]\n",
    "        # responses = _search_thing(request.lat, request.lng)\n",
    "        responses = _search_commune(request.lat, request.lng)\n",
    "\n",
    "        return search_pb2.SearchResponses(responses=responses)\n",
    "\n",
    "    @stat.timer(\"monitor\")\n",
    "    def monitor(self, _request, _context):\n",
    "        [...]"
   ]
  },
  {
   "cell_type": "markdown",
   "metadata": {
    "slideshow": {
     "slide_type": "subslide"
    }
   },
   "source": [
    "### Business Logic: Search \"commune\""
   ]
  },
  {
   "cell_type": "code",
   "execution_count": null,
   "metadata": {
    "hidePrompt": true,
    "slideshow": {
     "slide_type": "-"
    }
   },
   "outputs": [],
   "source": [
    "# %load ../../src/tutorial/grpc/geodatas/rpc/search_servicer.py\n",
    "from sqlalchemy.orm.query import Query\n",
    "from tutorial.grpc.geodatas.common.base import session_factory\n",
    "from tutorial.grpc.geodatas.models.ogrgeojson import OGRGeoJSON\n",
    "from tutorial.grpc.geodatas.proto import search_pb2, search_pb2_grpc\n",
    "from tutorial.grpc.geodatas.tools.geometry import Position\n",
    "\n",
    "\n",
    "def _query_to_responses(query: Query,\n",
    "                        func_response: Callable[[Query], str]) -> List[search_pb2.SearchResponse]:\n",
    "    return [search_pb2.SearchResponse(response=func_response(rec))\n",
    "            for rec in query]\n",
    "\n",
    "\n",
    "def _search_commune(lat: float, lng: float, srid: int = 4326) -> List[search_pb2.SearchResponse]:\n",
    "    session = session_factory() # SQLAlchemy\n",
    "    query = session.query(OGRGeoJSON).filter(\n",
    "        func.ST_Contains(OGRGeoJSON.wkb_geometry,\n",
    "                         Position(lat, lng, srid).to_wkbelement))\n",
    "    return _query_to_responses(query,\n",
    "                               lambda rec: \"{} - {} - {}\".format(rec.insee, rec.nom, rec.wikipedia))"
   ]
  },
  {
   "cell_type": "markdown",
   "metadata": {
    "slideshow": {
     "slide_type": "subslide"
    }
   },
   "source": [
    "### Business Logic: Search Thing"
   ]
  },
  {
   "cell_type": "code",
   "execution_count": null,
   "metadata": {
    "hidePrompt": true
   },
   "outputs": [],
   "source": [
    "# %load ../../src/tutorial/grpc/geodatas/rpc/search_servicer.py\n",
    "from tutorial.grpc.geodatas.models.thing import Thing\n",
    "\n",
    "\n",
    "def _search_thing(lat: float, lng: float, srid: int = -1) -> List[search_pb2.SearchResponse]:\n",
    "    session = session_factory()\n",
    "    query = session.query(Thing).filter(\n",
    "        func.ST_Contains(Thing.geom,\n",
    "                         Position(lat, lng, srid).to_wktelement))\n",
    "    return _query_to_responses(query, lambda rec: rec.name)"
   ]
  },
  {
   "cell_type": "markdown",
   "metadata": {
    "slideshow": {
     "slide_type": "slide"
    }
   },
   "source": [
    "## Execution logs of Search Server"
   ]
  },
  {
   "cell_type": "code",
   "execution_count": null,
   "metadata": {
    "hideCode": false,
    "hideOutput": true,
    "hidePrompt": true,
    "slideshow": {
     "slide_type": "-"
    }
   },
   "outputs": [],
   "source": [
    "$ python search_server.py\n",
    "[...] SQLAlchemy\n",
    "2019-02-24 16:30:32,138 - __main__ - INFO - Search service, version=0.1.0\n",
    "2019-02-24 16:30:32,145 - tutorial.grpc.geodatas.tools.service_discovery - INFO - register started\n",
    "2019-02-24 16:30:32,145 - root - DEBUG - consul_host=127.0.0.1\n",
    "2019-02-24 16:30:32,184 - tutorial.grpc.geodatas.tools.service_discovery - INFO - services: {'search-service-50361': {'ID': 'search-service-50361', 'Service': 'search-service', 'Tags': [], 'Meta': {}, 'Port': 50361, 'Address': '127.0.0.1', 'Weights': {'Passing': 1, 'Warning': 1}, 'EnableTagOverride': False}, 'search-service-53261': {'ID': 'search-service-53261', 'Service': 'search-service', 'Tags': [], 'Meta': {}, 'Port': 53261, 'Address': '127.0.0.1', 'Weights': {'Passing': 1, 'Warning': 1}, 'EnableTagOverride': False}, 'search-service-54816': {'ID': 'search-service-54816', 'Service': 'search-service', 'Tags': [], 'Meta': {}, 'Port': 54816, 'Address': '127.0.0.1', 'Weights': {'Passing': 1, 'Warning': 1}, 'EnableTagOverride': False}, 'search-service-55823': {'ID': 'search-service-55823', 'Service': 'search-service', 'Tags': [], 'Meta': {}, 'Port': 55823, 'Address': '127.0.0.1', 'Weights': {'Passing': 1, 'Warning': 1}, 'EnableTagOverride': False}, 'search-service-56867': {'ID': 'search-service-56867', 'Service': 'search-service', 'Tags': [], 'Meta': {}, 'Port': 56867, 'Address': '127.0.0.1', 'Weights': {'Passing': 1, 'Warning': 1}, 'EnableTagOverride': False}}\n",
    "2019-02-24 16:30:32,185 - __main__ - INFO - Starting server on port 53261...\n",
    "2019-02-24 16:30:32,188 - __main__ - INFO - Ready and waiting for connections.\n",
    "        \n",
    "[...] Receiving a search request from a client\n",
    "\n",
    "2019-02-24 16:31:00,992 - tutorial.grpc.geodatas.rpc.search_servicer - INFO - search request: query: \"search_client\"\n",
    "result_per_page: 10\n",
    "lat: 4.849999904632568\n",
    "lng: 45.75\n",
    "2019-02-24 16:31:01,008 - tutorial.grpc.geodatas.rpc.search_servicer - INFO - search responses: [response: \"69123 - Lyon - fr:Lyon\"]\n",
    "            \n",
    "[...] Shutdown (search) server\n",
    "\n",
    "2019-02-24 16:31:31,481 - __main__ - INFO - Signal 2 received, shutting down...\n",
    "2019-02-24 16:31:31,482 - tutorial.grpc.geodatas.tools.service_discovery - INFO - unregister started\n",
    "2019-02-24 16:31:31,510 - tutorial.grpc.geodatas.tools.service_discovery - INFO - services: {'search-service-50361': {'ID': 'search-service-50361', 'Service': 'search-service', 'Tags': [], 'Meta': {}, 'Port': 50361, 'Address': '127.0.0.1', 'Weights': {'Passing': 1, 'Warning': 1}, 'EnableTagOverride': False}, 'search-service-54816': {'ID': 'search-service-54816', 'Service': 'search-service', 'Tags': [], 'Meta': {}, 'Port': 54816, 'Address': '127.0.0.1', 'Weights': {'Passing': 1, 'Warning': 1}, 'EnableTagOverride': False}, 'search-service-55823': {'ID': 'search-service-55823', 'Service': 'search-service', 'Tags': [], 'Meta': {}, 'Port': 55823, 'Address': '127.0.0.1', 'Weights': {'Passing': 1, 'Warning': 1}, 'EnableTagOverride': False}, 'search-service-56867': {'ID': 'search-service-56867', 'Service': 'search-service', 'Tags': [], 'Meta': {}, 'Port': 56867, 'Address': '127.0.0.1', 'Weights': {'Passing': 1, 'Warning': 1}, 'EnableTagOverride': False}}"
   ]
  },
  {
   "cell_type": "markdown",
   "metadata": {
    "slideshow": {
     "slide_type": "slide"
    }
   },
   "source": [
    "## Unit tests with Pytest"
   ]
  },
  {
   "cell_type": "code",
   "execution_count": null,
   "metadata": {
    "collapsed": true,
    "hidePrompt": true,
    "slideshow": {
     "slide_type": "-"
    }
   },
   "outputs": [],
   "source": [
    "./tests/\n",
    "├── __init__.py\n",
    "├── conftest.py\n",
    "├── test_search_client.py\n",
    "└── test_search_server.py"
   ]
  },
  {
   "cell_type": "markdown",
   "metadata": {
    "slideshow": {
     "slide_type": "subslide"
    }
   },
   "source": [
    "### Pytest Fixtures"
   ]
  },
  {
   "cell_type": "code",
   "execution_count": null,
   "metadata": {
    "hidePrompt": true,
    "slideshow": {
     "slide_type": "-"
    }
   },
   "outputs": [],
   "source": [
    "# %load ./tests/conftest.py\n",
    "import grpc\n",
    "import pytest\n",
    "from tutorial.grpc.geodatas.search_server import serve\n",
    "from tutorial.grpc.geodatas.proto import search_pb2_grpc\n",
    "\n",
    "\n",
    "@pytest.fixture(scope=\"session\", autouse=True)\n",
    "def start_core_rpc_server(request):\n",
    "    \"\"\"Spawn an instance of the rpc service, and close it at the end of test sessions.\n",
    "    \"\"\"\n",
    "    server, insecure_port = serve(block=False)\n",
    "    assert server is not None\n",
    "    \n",
    "    pytest.insecure_port = insecure_port\n",
    "\n",
    "    def _kill_server():\n",
    "        server.stop(0)\n",
    "\n",
    "    request.addfinalizer(_kill_server)\n",
    "\n",
    "\n",
    "@pytest.fixture\n",
    "def core_rpc_stub():\n",
    "    \"\"\"Create a new rpc stub and connect to the server\"\"\"\n",
    "    channel = grpc.insecure_channel(f'localhost:{pytest.__dict__.get(\"insecure_port\")}')\n",
    "    stub = search_pb2_grpc.SearchStub(channel)\n",
    "    return stub"
   ]
  },
  {
   "cell_type": "markdown",
   "metadata": {
    "slideshow": {
     "slide_type": "subslide"
    }
   },
   "source": [
    "## Unit tests on Search Server"
   ]
  },
  {
   "cell_type": "code",
   "execution_count": null,
   "metadata": {
    "hidePrompt": true,
    "slideshow": {
     "slide_type": "-"
    }
   },
   "outputs": [],
   "source": [
    "# %load ./tests/test_search_server.py\n",
    "from tutorial.grpc.geodatas.models.thing import Thing\n",
    "from tutorial.grpc.geodatas.proto import search_pb2\n",
    "\n",
    "\n",
    "def test_search_server(core_rpc_stub, add_to_session):\n",
    "    thing_name = \"test_squared_thing\"\n",
    "    test_thing = Thing(name=thing_name, geom='POLYGON((0 0,1 0,1 1,0 1,0 0))')\n",
    "    add_to_session(test_thing)\n",
    "\n",
    "    def _filter_responses(_responses):\n",
    "        return list(filter(lambda r: r.response == thing_name, _responses))\n",
    "    \n",
    "    req = search_pb2.SearchRequest(query=\"search_client\", lat=0.5, lng=0.5, result_per_page=10)\n",
    "    resp = core_rpc_stub.search_thing(req)\n",
    "    responses = _filter_responses(resp.responses)\n",
    "    assert len(responses) == 1\n",
    "    assert responses[0].response == thing_name\n",
    "\n",
    "    req = search_pb2.SearchRequest(query=\"search_client\", lat=-1.0, lng=0.0, result_per_page=10)\n",
    "    resp = core_rpc_stub.search_thing(req)\n",
    "    responses = _filter_responses(resp.responses)\n",
    "    assert responses == []"
   ]
  },
  {
   "cell_type": "markdown",
   "metadata": {
    "slideshow": {
     "slide_type": "slide"
    }
   },
   "source": [
    "# Search Client"
   ]
  },
  {
   "cell_type": "code",
   "execution_count": null,
   "metadata": {
    "hideOutput": true,
    "hidePrompt": true,
    "slideshow": {
     "slide_type": "subslide"
    }
   },
   "outputs": [],
   "source": [
    "./src/tutorial/grpc/geodatas\n",
    "├── __init__.py\n",
    "├── common\n",
    "│   ├── __init__.py\n",
    "│   └── base.py\n",
    "├── models\n",
    "│   ├── __init__.py\n",
    "│   ├── ogrgeojson.py\n",
    "│   └── thing.py\n",
    "├── proto\n",
    "│   ├── __init__.py\n",
    "│   ├── search.proto\n",
    "│   ├── search_pb2.py      ((*))\n",
    "│   └── search_pb2_grpc.py ((*))\n",
    "├── rpc\n",
    "│   ├── __init__.py\n",
    "│   └── search_servicer.py (*)\n",
    "├── search_client.py (*)\n",
    "├── search_server.py\n",
    "└── tools\n",
    "    ├── __init__.py\n",
    "    ├── geometry.py\n",
    "    ├── rpc_stub.py (*)\n",
    "    └── service_discovery.py (*)\n"
   ]
  },
  {
   "cell_type": "markdown",
   "metadata": {
    "hidePrompt": true,
    "slideshow": {
     "slide_type": "-"
    }
   },
   "source": [
    "- (*)   Files focus\n",
    "- ((*)) Generated files"
   ]
  },
  {
   "cell_type": "markdown",
   "metadata": {
    "slideshow": {
     "slide_type": "slide"
    }
   },
   "source": [
    "## Application"
   ]
  },
  {
   "cell_type": "code",
   "execution_count": 33,
   "metadata": {
    "collapsed": true,
    "hideCode": false,
    "hideOutput": true,
    "hidePrompt": true,
    "slideshow": {
     "slide_type": "-"
    }
   },
   "outputs": [
    {
     "ename": "ModuleNotFoundError",
     "evalue": "No module named 'tutorial.grpc.geodatas.tools.rpc_stub'",
     "output_type": "error",
     "traceback": [
      "\u001b[0;31m---------------------------------------------------------------------------\u001b[0m",
      "\u001b[0;31mModuleNotFoundError\u001b[0m                       Traceback (most recent call last)",
      "\u001b[0;32m<ipython-input-33-36b0c719bd70>\u001b[0m in \u001b[0;36m<module>\u001b[0;34m\u001b[0m\n\u001b[1;32m      6\u001b[0m \u001b[0;34m\u001b[0m\u001b[0m\n\u001b[1;32m      7\u001b[0m \u001b[0;32mfrom\u001b[0m \u001b[0mtutorial\u001b[0m\u001b[0;34m.\u001b[0m\u001b[0mgrpc\u001b[0m\u001b[0;34m.\u001b[0m\u001b[0mgeodatas\u001b[0m\u001b[0;34m.\u001b[0m\u001b[0mproto\u001b[0m \u001b[0;32mimport\u001b[0m \u001b[0msearch_pb2_grpc\u001b[0m\u001b[0;34m,\u001b[0m \u001b[0msearch_pb2\u001b[0m\u001b[0;34m\u001b[0m\u001b[0;34m\u001b[0m\u001b[0m\n\u001b[0;32m----> 8\u001b[0;31m \u001b[0;32mfrom\u001b[0m \u001b[0mtutorial\u001b[0m\u001b[0;34m.\u001b[0m\u001b[0mgrpc\u001b[0m\u001b[0;34m.\u001b[0m\u001b[0mgeodatas\u001b[0m\u001b[0;34m.\u001b[0m\u001b[0mtools\u001b[0m\u001b[0;34m.\u001b[0m\u001b[0mrpc_stub\u001b[0m \u001b[0;32mimport\u001b[0m \u001b[0mget_search_rpc_stub_with_consul\u001b[0m\u001b[0;34m\u001b[0m\u001b[0;34m\u001b[0m\u001b[0m\n\u001b[0m\u001b[1;32m      9\u001b[0m \u001b[0;34m\u001b[0m\u001b[0m\n\u001b[1;32m     10\u001b[0m \u001b[0mlogger\u001b[0m \u001b[0;34m=\u001b[0m \u001b[0mlogging\u001b[0m\u001b[0;34m.\u001b[0m\u001b[0mgetLogger\u001b[0m\u001b[0;34m(\u001b[0m\u001b[0m__name__\u001b[0m\u001b[0;34m)\u001b[0m\u001b[0;34m\u001b[0m\u001b[0;34m\u001b[0m\u001b[0m\n",
      "\u001b[0;31mModuleNotFoundError\u001b[0m: No module named 'tutorial.grpc.geodatas.tools.rpc_stub'"
     ]
    }
   ],
   "source": [
    "# %load ./src/tutorial/grpc/geodatas/search_client.py\n",
    "import argparse\n",
    "import logging\n",
    "\n",
    "from tutorial.grpc.geodatas.proto import search_pb2_grpc, search_pb2\n",
    "from tutorial.grpc.geodatas.tools.rpc_stub import get_search_rpc_stub_with_consul\n",
    "\n",
    "logger = logging.getLogger(__name__)\n",
    "\n",
    "\n",
    "def process_request_position(search_service_stub: search_pb2_grpc.SearchStub, lat: float, lng: float):\n",
    "    [...]\n",
    "    \n",
    "\n",
    "def process(args):\n",
    "    [...]\n",
    "\n",
    "\n",
    "def main():\n",
    "    args = parse_arguments()\n",
    "    process(args)"
   ]
  },
  {
   "cell_type": "markdown",
   "metadata": {
    "slideshow": {
     "slide_type": "subslide"
    }
   },
   "source": [
    "### Processing - Consul (as services registry)"
   ]
  },
  {
   "cell_type": "code",
   "execution_count": null,
   "metadata": {
    "hidePrompt": true,
    "slideshow": {
     "slide_type": "-"
    }
   },
   "outputs": [],
   "source": [
    "# %load ./src/tutorial/grpc/geodatas/search_client.py\n",
    "from tutorial.grpc.geodatas.proto import search_pb2_grpc, search_pb2\n",
    "from tutorial.grpc.geodatas.tools.rpc_stub import get_search_rpc_stub_with_consul\n",
    "\n",
    "logger = logging.getLogger(__name__)\n",
    "\n",
    "\n",
    "def process_request_position(search_service_stub: search_pb2_grpc.SearchStub, lat: float, lng: float):\n",
    "    [...]\n",
    "    \n",
    "\n",
    "def process(args):\n",
    "    search_service_stub = get_search_rpc_stub_with_consul(args.consul_resolver_port,\n",
    "                                                          args.consul_resolver_nameservers,\n",
    "                                                          args.consul_resolver_nameservice)\n",
    "\n",
    "    if args.monitor:\n",
    "        process_monitor(search_service_stub)\n",
    "\n",
    "    if args.request_position_latlng:\n",
    "        process_request_position(search_service_stub, *args.request_position_latlng)"
   ]
  },
  {
   "cell_type": "markdown",
   "metadata": {
    "slideshow": {
     "slide_type": "subslide"
    }
   },
   "source": [
    "#### Tools - Consul + gRPC stub"
   ]
  },
  {
   "cell_type": "code",
   "execution_count": null,
   "metadata": {
    "hidePrompt": true,
    "slideshow": {
     "slide_type": "-"
    }
   },
   "outputs": [],
   "source": [
    "# %load ./src/tutorial/grpc/geodatas/tools/rpc_stub.py\n",
    "from grpc import insecure_channel\n",
    "from tutorial.grpc.geodatas.proto import search_pb2_grpc\n",
    "from tutorial.grpc.geodatas.tools.service_discovery import find_service_with_consul\n",
    "\n",
    "\n",
    "def get_search_rpc_stub(ip: str, port: int) -> search_pb2_grpc.SearchStub:\n",
    "    logger.info(f\"creating grpc client based on consul data: ip={ip} port={port}\")\n",
    "    channel = grpc.insecure_channel(f'{ip}:{port}')\n",
    "    stub = search_pb2_grpc.SearchStub(channel)\n",
    "    return stub\n",
    "\n",
    "\n",
    "def get_search_rpc_stub_with_consul(consul_resolver_port: int,\n",
    "                                    consul_resolver_nameservers: List[str],\n",
    "                                    consul_resolver_nameservice: str) -> search_pb2_grpc.SearchStub:\n",
    "    search_service_ip, search_service_port = find_service_with_consul(consul_resolver_port,\n",
    "                                                                      consul_resolver_nameservers,\n",
    "                                                                      consul_resolver_nameservice)\n",
    "\n",
    "    return get_search_rpc_stub(search_service_ip, search_service_port)"
   ]
  },
  {
   "cell_type": "markdown",
   "metadata": {
    "slideshow": {
     "slide_type": "subslide"
    }
   },
   "source": [
    "### Processing - Request position"
   ]
  },
  {
   "cell_type": "code",
   "execution_count": null,
   "metadata": {
    "hideOutput": false,
    "hidePrompt": true,
    "slideshow": {
     "slide_type": "-"
    }
   },
   "outputs": [],
   "source": [
    "# %load ./src/tutorial/grpc/geodatas/search_client.py\n",
    "from tutorial.grpc.geodatas.proto import search_pb2_grpc, search_pb2\n",
    "from tutorial.grpc.geodatas.tools.rpc_stub import get_search_rpc_stub_with_consul\n",
    "\n",
    "logger = logging.getLogger(__name__)\n",
    "\n",
    "\n",
    "def process_request_position(search_service_stub: search_pb2_grpc.SearchStub, lat: float, lng: float):\n",
    "    req = search_pb2.SearchRequest(query=\"search_client\", lat=lat, lng=lng, result_per_page=10)\n",
    "    logger.debug(\"sending request: {}\".format(req))\n",
    "    resp = search_service_stub.search(req)\n",
    "    logger.debug(\"received response: {}\".format(resp if resp else 'None'))\n",
    "    \n",
    "\n",
    "def process(args):\n",
    "    [...]"
   ]
  },
  {
   "cell_type": "code",
   "execution_count": null,
   "metadata": {
    "hidePrompt": true,
    "slideshow": {
     "slide_type": "fragment"
    }
   },
   "outputs": [],
   "source": [
    "# %load ./src/tutorial/grpc/geodatas/proto/search_pb2_grpc.py\n",
    "class SearchStub(object):\n",
    "    def __init__(self, channel):\n",
    "        self.monitor = [...]\n",
    "        self.search = channel.unary_unary(\n",
    "            '/Search/search',\n",
    "            request_serializer=tutorial_dot_grpc_dot_geodatas_dot_proto_dot_search__pb2.SearchRequest.SerializeToString,\n",
    "            response_deserializer=tutorial_dot_grpc_dot_geodatas_dot_proto_dot_search__pb2.SearchResponses.FromString,\n",
    "            )"
   ]
  },
  {
   "cell_type": "markdown",
   "metadata": {
    "slideshow": {
     "slide_type": "slide"
    }
   },
   "source": [
    "## Execution logs of Search Client"
   ]
  },
  {
   "cell_type": "code",
   "execution_count": null,
   "metadata": {
    "hideCode": false,
    "hideOutput": true,
    "hidePrompt": true,
    "slideshow": {
     "slide_type": "-"
    }
   },
   "outputs": [],
   "source": [
    "$ python search_client.py --request_position_latlng 4.850000 45.750000 --m\n",
    "2019-02-24 10:06:35,599 - __main__ - INFO - creating grpc client based on consul data: ip=127.0.0.1 port=54813\n",
    "2019-02-24 10:06:35,612 - __main__ - DEBUG - monitor response: n_things: 4\n",
    "\n",
    "2019-02-24 10:06:35,612 - __main__ - DEBUG - sending request: query: \"search_client\"\n",
    "result_per_page: 10\n",
    "lat: 4.849999904632568\n",
    "lng: 45.75\n",
    "\n",
    "2019-02-24 10:06:35,630 - __main__ - DEBUG - received response: responses {response: \"69123 - Lyon - fr:Lyon\"}"
   ]
  }
 ],
 "metadata": {
  "celltoolbar": "Slideshow",
  "kernelspec": {
   "display_name": "2017_GRPC_Tutorial",
   "language": "python",
   "name": "2017_grpc_tutorial"
  },
  "language_info": {
   "codemirror_mode": {
    "name": "ipython",
    "version": 3
   },
   "file_extension": ".py",
   "mimetype": "text/x-python",
   "name": "python",
   "nbconvert_exporter": "python",
   "pygments_lexer": "ipython3",
   "version": "3.7.2"
  }
 },
 "nbformat": 4,
 "nbformat_minor": 2
}
