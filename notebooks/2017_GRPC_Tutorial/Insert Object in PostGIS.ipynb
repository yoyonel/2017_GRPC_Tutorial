{
 "cells": [
  {
   "cell_type": "code",
   "execution_count": 2,
   "metadata": {},
   "outputs": [],
   "source": [
    "import os\n",
    "\n",
    "os.environ[\"TUTORIAL_GRPC_PG_PORT\"] = \"2345\""
   ]
  },
  {
   "cell_type": "code",
   "execution_count": 5,
   "metadata": {},
   "outputs": [
    {
     "name": "stdout",
     "output_type": "stream",
     "text": [
      "2019-02-21 18:16:34,096 INFO sqlalchemy.engine.base.Engine BEGIN (implicit)\n",
      "2019-02-21 18:16:34,098 INFO sqlalchemy.engine.base.Engine INSERT INTO thing (name, geom) VALUES (%(name)s, ST_GeomFromEWKT(%(geom)s)) RETURNING thing.id\n",
      "2019-02-21 18:16:34,099 INFO sqlalchemy.engine.base.Engine {'name': 'test_thing', 'geom': 'POLYGON((0 0,1 0,1 1,0 1,0 0))'}\n",
      "2019-02-21 18:16:34,102 INFO sqlalchemy.engine.base.Engine COMMIT\n"
     ]
    }
   ],
   "source": [
    "from tutorial.grpc.geodatas.models.models import Thing, session\n",
    "\n",
    "test_thing = Thing(\n",
    "        name=\"test_thing\",\n",
    "        geom='POLYGON((0 0,1 0,1 1,0 1,0 0))'\n",
    "    )\n",
    "session.add(test_thing)\n",
    "session.commit()"
   ]
  }
 ],
 "metadata": {
  "kernelspec": {
   "display_name": "2017_GRPC_Tutorial",
   "language": "python",
   "name": "2017_grpc_tutorial"
  },
  "language_info": {
   "codemirror_mode": {
    "name": "ipython",
    "version": 3
   },
   "file_extension": ".py",
   "mimetype": "text/x-python",
   "name": "python",
   "nbconvert_exporter": "python",
   "pygments_lexer": "ipython3",
   "version": "3.7.2"
  }
 },
 "nbformat": 4,
 "nbformat_minor": 2
}
