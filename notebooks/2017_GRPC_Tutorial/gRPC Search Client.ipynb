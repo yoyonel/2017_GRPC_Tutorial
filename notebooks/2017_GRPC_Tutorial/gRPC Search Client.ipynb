{
 "cells": [
  {
   "cell_type": "code",
   "execution_count": 1,
   "metadata": {},
   "outputs": [],
   "source": [
    "import tutorial.grpc.geodatas.search_client as search_client"
   ]
  },
  {
   "cell_type": "code",
   "execution_count": 2,
   "metadata": {},
   "outputs": [],
   "source": [
    "import logging \n",
    "import sys\n",
    "\n",
    "# Create logger\n",
    "logger = logging.getLogger()\n",
    "logger.setLevel(logging.DEBUG)\n",
    "\n",
    "# Create STDERR handler\n",
    "handler = logging.StreamHandler(sys.stderr)\n",
    "\n",
    "# Create formatter and add it to the handler\n",
    "formatter = logging.Formatter('%(asctime)s - %(name)s - %(levelname)s - %(message)s')\n",
    "handler.setFormatter(formatter)\n",
    "\n",
    "# Set STDERR handler as the only handler \n",
    "logger.handlers = [handler]"
   ]
  },
  {
   "cell_type": "code",
   "execution_count": 3,
   "metadata": {},
   "outputs": [],
   "source": [
    "args = search_client.build_parser().parse_args(\"--request_position_latlng 0.5 0.5 --m\".split(\" \"))"
   ]
  },
  {
   "cell_type": "code",
   "execution_count": 4,
   "metadata": {},
   "outputs": [
    {
     "name": "stderr",
     "output_type": "stream",
     "text": [
      "2019-02-21 18:23:29,772 - tutorial.grpc.geodatas.search_client - INFO - creating grpc client based on consul data: ip=127.0.0.1 port=50643\n",
      "2019-02-21 18:23:29,796 - tutorial.grpc.geodatas.search_client - DEBUG - args.monitor: True\n",
      "2019-02-21 18:23:29,803 - tutorial.grpc.geodatas.search_client - DEBUG - monitor response: n_things: 4\n",
      "\n",
      "2019-02-21 18:23:29,804 - tutorial.grpc.geodatas.search_client - DEBUG - sending request: query: \"search_client\"\n",
      "result_per_page: 10\n",
      "lat: 0.5\n",
      "lng: 0.5\n",
      "\n",
      "2019-02-21 18:23:29,814 - tutorial.grpc.geodatas.search_client - DEBUG - received response: responses {\n",
      "  response: \"test_thing\"\n",
      "}\n",
      "responses {\n",
      "  response: \"test_thing\"\n",
      "}\n",
      "responses {\n",
      "  response: \"test_thing\"\n",
      "}\n",
      "responses {\n",
      "  response: \"test_thing\"\n",
      "}\n",
      "\n"
     ]
    }
   ],
   "source": [
    "search_client.process(args)"
   ]
  },
  {
   "cell_type": "code",
   "execution_count": null,
   "metadata": {},
   "outputs": [],
   "source": []
  }
 ],
 "metadata": {
  "kernelspec": {
   "display_name": "2017_GRPC_Tutorial",
   "language": "python",
   "name": "2017_grpc_tutorial"
  },
  "language_info": {
   "codemirror_mode": {
    "name": "ipython",
    "version": 3
   },
   "file_extension": ".py",
   "mimetype": "text/x-python",
   "name": "python",
   "nbconvert_exporter": "python",
   "pygments_lexer": "ipython3",
   "version": "3.7.2"
  }
 },
 "nbformat": 4,
 "nbformat_minor": 2
}
