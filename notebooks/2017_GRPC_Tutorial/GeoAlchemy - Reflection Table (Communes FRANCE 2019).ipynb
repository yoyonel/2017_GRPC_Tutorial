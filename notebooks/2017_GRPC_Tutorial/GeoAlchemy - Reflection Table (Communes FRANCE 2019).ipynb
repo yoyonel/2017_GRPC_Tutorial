{
 "cells": [
  {
   "cell_type": "code",
   "execution_count": 1,
   "metadata": {},
   "outputs": [],
   "source": [
    "import os\n",
    "\n",
    "os.environ[\"TUTORIAL_GRPC_PG_PORT\"] = \"2345\""
   ]
  },
  {
   "cell_type": "code",
   "execution_count": 2,
   "metadata": {},
   "outputs": [
    {
     "name": "stdout",
     "output_type": "stream",
     "text": [
      "2019-02-23 01:52:29,708 INFO sqlalchemy.engine.base.Engine select version()\n",
      "2019-02-23 01:52:29,708 INFO sqlalchemy.engine.base.Engine {}\n",
      "2019-02-23 01:52:29,711 INFO sqlalchemy.engine.base.Engine select current_schema()\n",
      "2019-02-23 01:52:29,711 INFO sqlalchemy.engine.base.Engine {}\n",
      "2019-02-23 01:52:29,714 INFO sqlalchemy.engine.base.Engine SELECT CAST('test plain returns' AS VARCHAR(60)) AS anon_1\n",
      "2019-02-23 01:52:29,715 INFO sqlalchemy.engine.base.Engine {}\n",
      "2019-02-23 01:52:29,717 INFO sqlalchemy.engine.base.Engine SELECT CAST('test unicode returns' AS VARCHAR(60)) AS anon_1\n",
      "2019-02-23 01:52:29,718 INFO sqlalchemy.engine.base.Engine {}\n",
      "2019-02-23 01:52:29,720 INFO sqlalchemy.engine.base.Engine show standard_conforming_strings\n",
      "2019-02-23 01:52:29,720 INFO sqlalchemy.engine.base.Engine {}\n",
      "2019-02-23 01:52:29,728 INFO sqlalchemy.engine.base.Engine \n",
      "            SELECT c.oid\n",
      "            FROM pg_catalog.pg_class c\n",
      "            LEFT JOIN pg_catalog.pg_namespace n ON n.oid = c.relnamespace\n",
      "            WHERE (pg_catalog.pg_table_is_visible(c.oid))\n",
      "            AND c.relname = %(table_name)s AND c.relkind in ('r', 'v', 'm', 'f')\n",
      "        \n",
      "2019-02-23 01:52:29,730 INFO sqlalchemy.engine.base.Engine {'table_name': 'ogrgeojson'}\n",
      "2019-02-23 01:52:29,736 INFO sqlalchemy.engine.base.Engine \n",
      "            SELECT a.attname,\n",
      "              pg_catalog.format_type(a.atttypid, a.atttypmod),\n",
      "              (SELECT pg_catalog.pg_get_expr(d.adbin, d.adrelid)\n",
      "                FROM pg_catalog.pg_attrdef d\n",
      "               WHERE d.adrelid = a.attrelid AND d.adnum = a.attnum\n",
      "               AND a.atthasdef)\n",
      "              AS DEFAULT,\n",
      "              a.attnotnull, a.attnum, a.attrelid as table_oid,\n",
      "              pgd.description as comment\n",
      "            FROM pg_catalog.pg_attribute a\n",
      "            LEFT JOIN pg_catalog.pg_description pgd ON (\n",
      "                pgd.objoid = a.attrelid AND pgd.objsubid = a.attnum)\n",
      "            WHERE a.attrelid = %(table_oid)s\n",
      "            AND a.attnum > 0 AND NOT a.attisdropped\n",
      "            ORDER BY a.attnum\n",
      "        \n",
      "2019-02-23 01:52:29,737 INFO sqlalchemy.engine.base.Engine {'table_oid': 22175}\n",
      "2019-02-23 01:52:29,750 INFO sqlalchemy.engine.base.Engine \n",
      "            SELECT t.typname as \"name\",\n",
      "               pg_catalog.format_type(t.typbasetype, t.typtypmod) as \"attype\",\n",
      "               not t.typnotnull as \"nullable\",\n",
      "               t.typdefault as \"default\",\n",
      "               pg_catalog.pg_type_is_visible(t.oid) as \"visible\",\n",
      "               n.nspname as \"schema\"\n",
      "            FROM pg_catalog.pg_type t\n",
      "               LEFT JOIN pg_catalog.pg_namespace n ON n.oid = t.typnamespace\n",
      "            WHERE t.typtype = 'd'\n",
      "        \n",
      "2019-02-23 01:52:29,754 INFO sqlalchemy.engine.base.Engine {}\n",
      "2019-02-23 01:52:29,758 INFO sqlalchemy.engine.base.Engine \n",
      "            SELECT t.typname as \"name\",\n",
      "               -- no enum defaults in 8.4 at least\n",
      "               -- t.typdefault as \"default\",\n",
      "               pg_catalog.pg_type_is_visible(t.oid) as \"visible\",\n",
      "               n.nspname as \"schema\",\n",
      "               e.enumlabel as \"label\"\n",
      "            FROM pg_catalog.pg_type t\n",
      "                 LEFT JOIN pg_catalog.pg_namespace n ON n.oid = t.typnamespace\n",
      "                 LEFT JOIN pg_catalog.pg_enum e ON t.oid = e.enumtypid\n",
      "            WHERE t.typtype = 'e'\n",
      "        ORDER BY \"schema\", \"name\", e.oid\n",
      "2019-02-23 01:52:29,762 INFO sqlalchemy.engine.base.Engine {}\n",
      "2019-02-23 01:52:29,772 INFO sqlalchemy.engine.base.Engine \n",
      "                SELECT a.attname\n",
      "                FROM pg_attribute a JOIN (\n",
      "                    SELECT unnest(ix.indkey) attnum,\n",
      "                           generate_subscripts(ix.indkey, 1) ord\n",
      "                    FROM pg_index ix\n",
      "                    WHERE ix.indrelid = %(table_oid)s AND ix.indisprimary\n",
      "                    ) k ON a.attnum=k.attnum\n",
      "                WHERE a.attrelid = %(table_oid)s\n",
      "                ORDER BY k.ord\n",
      "            \n",
      "2019-02-23 01:52:29,773 INFO sqlalchemy.engine.base.Engine {'table_oid': 22175}\n",
      "2019-02-23 01:52:29,777 INFO sqlalchemy.engine.base.Engine \n",
      "        SELECT conname\n",
      "           FROM  pg_catalog.pg_constraint r\n",
      "           WHERE r.conrelid = %(table_oid)s AND r.contype = 'p'\n",
      "           ORDER BY 1\n",
      "        \n",
      "2019-02-23 01:52:29,778 INFO sqlalchemy.engine.base.Engine {'table_oid': 22175}\n",
      "2019-02-23 01:52:29,782 INFO sqlalchemy.engine.base.Engine \n",
      "          SELECT r.conname,\n",
      "                pg_catalog.pg_get_constraintdef(r.oid, true) as condef,\n",
      "                n.nspname as conschema\n",
      "          FROM  pg_catalog.pg_constraint r,\n",
      "                pg_namespace n,\n",
      "                pg_class c\n",
      "\n",
      "          WHERE r.conrelid = %(table)s AND\n",
      "                r.contype = 'f' AND\n",
      "                c.oid = confrelid AND\n",
      "                n.oid = c.relnamespace\n",
      "          ORDER BY 1\n",
      "        \n",
      "2019-02-23 01:52:29,783 INFO sqlalchemy.engine.base.Engine {'table': 22175}\n",
      "2019-02-23 01:52:29,786 INFO sqlalchemy.engine.base.Engine \n",
      "              SELECT\n",
      "                  i.relname as relname,\n",
      "                  ix.indisunique, ix.indexprs, ix.indpred,\n",
      "                  a.attname, a.attnum, c.conrelid, ix.indkey::varchar,\n",
      "                  i.reloptions, am.amname\n",
      "              FROM\n",
      "                  pg_class t\n",
      "                        join pg_index ix on t.oid = ix.indrelid\n",
      "                        join pg_class i on i.oid = ix.indexrelid\n",
      "                        left outer join\n",
      "                            pg_attribute a\n",
      "                            on t.oid = a.attrelid and a.attnum = ANY(ix.indkey)\n",
      "                        left outer join\n",
      "                            pg_constraint c\n",
      "                            on (ix.indrelid = c.conrelid and\n",
      "                                ix.indexrelid = c.conindid and\n",
      "                                c.contype in ('p', 'u', 'x'))\n",
      "                        left outer join\n",
      "                            pg_am am\n",
      "                            on i.relam = am.oid\n",
      "              WHERE\n",
      "                  t.relkind IN ('r', 'v', 'f', 'm')\n",
      "                  and t.oid = %(table_oid)s\n",
      "                  and ix.indisprimary = 'f'\n",
      "              ORDER BY\n",
      "                  t.relname,\n",
      "                  i.relname\n",
      "            \n",
      "2019-02-23 01:52:29,787 INFO sqlalchemy.engine.base.Engine {'table_oid': 22175}\n",
      "2019-02-23 01:52:29,802 INFO sqlalchemy.engine.base.Engine \n",
      "            SELECT\n",
      "                cons.conname as name,\n",
      "                cons.conkey as key,\n",
      "                a.attnum as col_num,\n",
      "                a.attname as col_name\n",
      "            FROM\n",
      "                pg_catalog.pg_constraint cons\n",
      "                join pg_attribute a\n",
      "                  on cons.conrelid = a.attrelid AND\n",
      "                    a.attnum = ANY(cons.conkey)\n",
      "            WHERE\n",
      "                cons.conrelid = %(table_oid)s AND\n",
      "                cons.contype = 'u'\n",
      "        \n",
      "2019-02-23 01:52:29,803 INFO sqlalchemy.engine.base.Engine {'table_oid': 22175}\n",
      "2019-02-23 01:52:29,807 INFO sqlalchemy.engine.base.Engine \n",
      "            SELECT\n",
      "                cons.conname as name,\n",
      "                pg_get_constraintdef(cons.oid) as src\n",
      "            FROM\n",
      "                pg_catalog.pg_constraint cons\n",
      "            WHERE\n",
      "                cons.conrelid = %(table_oid)s AND\n",
      "                cons.contype = 'c'\n",
      "        \n",
      "2019-02-23 01:52:29,809 INFO sqlalchemy.engine.base.Engine {'table_oid': 22175}\n",
      "2019-02-23 01:52:29,811 INFO sqlalchemy.engine.base.Engine \n",
      "            SELECT\n",
      "                pgd.description as table_comment\n",
      "            FROM\n",
      "                pg_catalog.pg_description pgd\n",
      "            WHERE\n",
      "                pgd.objsubid = 0 AND\n",
      "                pgd.objoid = %(table_oid)s\n",
      "        \n",
      "2019-02-23 01:52:29,813 INFO sqlalchemy.engine.base.Engine {'table_oid': 22175}\n",
      "2019-02-23 01:52:29,819 INFO sqlalchemy.engine.base.Engine select relname from pg_class c join pg_namespace n on n.oid=c.relnamespace where pg_catalog.pg_table_is_visible(c.oid) and relname=%(name)s\n",
      "2019-02-23 01:52:29,823 INFO sqlalchemy.engine.base.Engine {'name': 'thing'}\n",
      "2019-02-23 01:52:29,827 INFO sqlalchemy.engine.base.Engine select relname from pg_class c join pg_namespace n on n.oid=c.relnamespace where pg_catalog.pg_table_is_visible(c.oid) and relname=%(name)s\n",
      "2019-02-23 01:52:29,829 INFO sqlalchemy.engine.base.Engine {'name': 'ogrgeojson'}\n"
     ]
    },
    {
     "name": "stderr",
     "output_type": "stream",
     "text": [
      "/root/.local/share/virtualenvs/2017_GRPC_Tutorial-oVeYm3ns/lib/python3.7/site-packages/psycopg2/__init__.py:144: UserWarning: The psycopg2 wheel package will be renamed from release 2.8; in order to keep installing from binary please use \"pip install psycopg2-binary\" instead. For details see: <http://initd.org/psycopg/docs/install.html#binary-install-from-pypi>.\n",
      "  \"\"\")\n"
     ]
    }
   ],
   "source": [
    "from tutorial.grpc.geodatas.models.models import session, engine, Base\n",
    "from sqlalchemy import Table"
   ]
  },
  {
   "cell_type": "code",
   "execution_count": 3,
   "metadata": {},
   "outputs": [],
   "source": [
    "class OGRGeoJSON(Base):\n",
    "    __table__ = Table('ogrgeojson', Base.metadata, autoload=True, autoload_with=engine)"
   ]
  },
  {
   "cell_type": "code",
   "execution_count": 4,
   "metadata": {},
   "outputs": [
    {
     "name": "stdout",
     "output_type": "stream",
     "text": [
      "2019-02-23 01:52:29,876 INFO sqlalchemy.engine.base.Engine BEGIN (implicit)\n",
      "2019-02-23 01:52:29,884 INFO sqlalchemy.engine.base.Engine SELECT ogrgeojson.ogc_fid AS ogrgeojson_ogc_fid, ogrgeojson.insee AS ogrgeojson_insee, ogrgeojson.nom AS ogrgeojson_nom, ogrgeojson.wikipedia AS ogrgeojson_wikipedia, ogrgeojson.surf_ha AS ogrgeojson_surf_ha, ST_AsEWKB(ogrgeojson.wkb_geometry) AS ogrgeojson_wkb_geometry \n",
      "FROM ogrgeojson \n",
      " LIMIT %(param_1)s\n",
      "2019-02-23 01:52:29,892 INFO sqlalchemy.engine.base.Engine {'param_1': 1}\n"
     ]
    },
    {
     "data": {
      "text/plain": [
       "[<__main__.OGRGeoJSON at 0x7f35cc10df28>]"
      ]
     },
     "execution_count": 4,
     "metadata": {},
     "output_type": "execute_result"
    }
   ],
   "source": [
    "list(session.query(OGRGeoJSON).limit(1))"
   ]
  },
  {
   "cell_type": "code",
   "execution_count": 16,
   "metadata": {},
   "outputs": [
    {
     "name": "stdout",
     "output_type": "stream",
     "text": [
      "2019-02-23 01:55:42,119 INFO sqlalchemy.engine.base.Engine SELECT ogrgeojson.ogc_fid AS ogrgeojson_ogc_fid, ogrgeojson.insee AS ogrgeojson_insee, ogrgeojson.nom AS ogrgeojson_nom, ogrgeojson.wikipedia AS ogrgeojson_wikipedia, ogrgeojson.surf_ha AS ogrgeojson_surf_ha, ST_AsEWKB(ogrgeojson.wkb_geometry) AS ogrgeojson_wkb_geometry \n",
      "FROM ogrgeojson \n",
      "WHERE ST_Contains(ogrgeojson.wkb_geometry, %(ST_Contains_1)s)\n",
      "2019-02-23 01:55:42,122 INFO sqlalchemy.engine.base.Engine {'ST_Contains_1': 'SRID=4326;POINT(-61.08459149999999 14.7251042998748)'}\n",
      "Fonds-Saint-Denis fr:Fonds-Saint-Denis 97208\n"
     ]
    }
   ],
   "source": [
    "from geoalchemy2 import Geography\n",
    "\n",
    "from sqlalchemy import func\n",
    "\n",
    "for rec in session.query(OGRGeoJSON).filter(func.ST_Contains(OGRGeoJSON.wkb_geometry,'SRID=4326;POINT(-61.08459149999999 14.7251042998748)')):\n",
    "    print(rec.nom, rec.wikipedia, rec.insee)\n"
   ]
  },
  {
   "cell_type": "code",
   "execution_count": 20,
   "metadata": {},
   "outputs": [
    {
     "name": "stdout",
     "output_type": "stream",
     "text": [
      "2019-02-23 02:04:09,781 INFO sqlalchemy.engine.base.Engine select relname from pg_class c join pg_namespace n on n.oid=c.relnamespace where pg_catalog.pg_table_is_visible(c.oid) and relname=%(name)s\n",
      "2019-02-23 02:04:09,784 INFO sqlalchemy.engine.base.Engine {'name': 'SELECT * from ogrgeojson LIMIT 6;'}\n",
      "2019-02-23 02:04:09,791 INFO sqlalchemy.engine.base.Engine SELECT * from ogrgeojson LIMIT 6;\n",
      "2019-02-23 02:04:09,793 INFO sqlalchemy.engine.base.Engine {}\n"
     ]
    },
    {
     "data": {
      "text/html": [
       "<div>\n",
       "<style scoped>\n",
       "    .dataframe tbody tr th:only-of-type {\n",
       "        vertical-align: middle;\n",
       "    }\n",
       "\n",
       "    .dataframe tbody tr th {\n",
       "        vertical-align: top;\n",
       "    }\n",
       "\n",
       "    .dataframe thead th {\n",
       "        text-align: right;\n",
       "    }\n",
       "</style>\n",
       "<table border=\"1\" class=\"dataframe\">\n",
       "  <thead>\n",
       "    <tr style=\"text-align: right;\">\n",
       "      <th></th>\n",
       "      <th>ogc_fid</th>\n",
       "      <th>insee</th>\n",
       "      <th>nom</th>\n",
       "      <th>wikipedia</th>\n",
       "      <th>surf_ha</th>\n",
       "      <th>wkb_geometry</th>\n",
       "    </tr>\n",
       "  </thead>\n",
       "  <tbody>\n",
       "    <tr>\n",
       "      <th>0</th>\n",
       "      <td>1</td>\n",
       "      <td>97223</td>\n",
       "      <td>Saint-Esprit</td>\n",
       "      <td>fr:Saint-Esprit (Martinique)</td>\n",
       "      <td>2318</td>\n",
       "      <td>POLYGON ((-60.9359504 14.58812009985865, -60.9...</td>\n",
       "    </tr>\n",
       "    <tr>\n",
       "      <th>1</th>\n",
       "      <td>2</td>\n",
       "      <td>97233</td>\n",
       "      <td>Le Morne-Vert</td>\n",
       "      <td>fr:Le Morne-Vert</td>\n",
       "      <td>1325</td>\n",
       "      <td>POLYGON ((-61.12164679999998 14.71928299987411...</td>\n",
       "    </tr>\n",
       "    <tr>\n",
       "      <th>2</th>\n",
       "      <td>3</td>\n",
       "      <td>97208</td>\n",
       "      <td>Fonds-Saint-Denis</td>\n",
       "      <td>fr:Fonds-Saint-Denis</td>\n",
       "      <td>2374</td>\n",
       "      <td>POLYGON ((-61.13354679999998 14.74656889987732...</td>\n",
       "    </tr>\n",
       "    <tr>\n",
       "      <th>3</th>\n",
       "      <td>4</td>\n",
       "      <td>97224</td>\n",
       "      <td>Saint-Joseph</td>\n",
       "      <td>fr:Saint-Joseph (Martinique)</td>\n",
       "      <td>4324</td>\n",
       "      <td>POLYGON ((-61.08459149999999 14.7251042998748,...</td>\n",
       "    </tr>\n",
       "    <tr>\n",
       "      <th>4</th>\n",
       "      <td>5</td>\n",
       "      <td>97212</td>\n",
       "      <td>Gros-Morne</td>\n",
       "      <td>fr:Gros-Morne</td>\n",
       "      <td>4601</td>\n",
       "      <td>POLYGON ((-61.08459149999999 14.7251042998748,...</td>\n",
       "    </tr>\n",
       "    <tr>\n",
       "      <th>5</th>\n",
       "      <td>6</td>\n",
       "      <td>97218</td>\n",
       "      <td>Le Morne-Rouge</td>\n",
       "      <td>fr:Le Morne-Rouge</td>\n",
       "      <td>3746</td>\n",
       "      <td>POLYGON ((-61.14847309999999 14.80605669988435...</td>\n",
       "    </tr>\n",
       "  </tbody>\n",
       "</table>\n",
       "</div>"
      ],
      "text/plain": [
       "   ogc_fid  insee                nom                     wikipedia  surf_ha  \\\n",
       "0        1  97223       Saint-Esprit  fr:Saint-Esprit (Martinique)     2318   \n",
       "1        2  97233      Le Morne-Vert              fr:Le Morne-Vert     1325   \n",
       "2        3  97208  Fonds-Saint-Denis          fr:Fonds-Saint-Denis     2374   \n",
       "3        4  97224       Saint-Joseph  fr:Saint-Joseph (Martinique)     4324   \n",
       "4        5  97212         Gros-Morne                 fr:Gros-Morne     4601   \n",
       "5        6  97218     Le Morne-Rouge             fr:Le Morne-Rouge     3746   \n",
       "\n",
       "                                        wkb_geometry  \n",
       "0  POLYGON ((-60.9359504 14.58812009985865, -60.9...  \n",
       "1  POLYGON ((-61.12164679999998 14.71928299987411...  \n",
       "2  POLYGON ((-61.13354679999998 14.74656889987732...  \n",
       "3  POLYGON ((-61.08459149999999 14.7251042998748,...  \n",
       "4  POLYGON ((-61.08459149999999 14.7251042998748,...  \n",
       "5  POLYGON ((-61.14847309999999 14.80605669988435...  "
      ]
     },
     "execution_count": 20,
     "metadata": {},
     "output_type": "execute_result"
    }
   ],
   "source": [
    "import geopandas as gpd\n",
    "\n",
    "\n",
    "gdf = gpd.read_postgis('''SELECT * from ogrgeojson LIMIT 6;''', engine, geom_col='wkb_geometry')\n",
    "gdf.set_geometry('wkb_geometry')"
   ]
  },
  {
   "cell_type": "code",
   "execution_count": 22,
   "metadata": {},
   "outputs": [
    {
     "data": {
      "image/png": "[encoded data removed]",
      "text/plain": [
       "<Figure size 432x288 with 1 Axes>"
      ]
     },
     "metadata": {
      "needs_background": "light"
     },
     "output_type": "display_data"
    }
   ],
   "source": [
    "if not gdf.empty:\n",
    "    gdf.plot()"
   ]
  },
  {
   "cell_type": "code",
   "execution_count": null,
   "metadata": {},
   "outputs": [],
   "source": []
  }
 ],
 "metadata": {
  "kernelspec": {
   "display_name": "2017_GRPC_Tutorial",
   "language": "python",
   "name": "2017_grpc_tutorial"
  },
  "language_info": {
   "codemirror_mode": {
    "name": "ipython",
    "version": 3
   },
   "file_extension": ".py",
   "mimetype": "text/x-python",
   "name": "python",
   "nbconvert_exporter": "python",
   "pygments_lexer": "ipython3",
   "version": "3.7.2"
  }
 },
 "nbformat": 4,
 "nbformat_minor": 2
}
