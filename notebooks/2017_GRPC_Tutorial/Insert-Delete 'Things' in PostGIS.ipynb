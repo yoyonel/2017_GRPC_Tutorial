{
 "cells": [
  {
   "cell_type": "markdown",
   "metadata": {
    "hideCode": false,
    "hideOutput": false,
    "hidePrompt": false
   },
   "source": [
    "## PG connection settings"
   ]
  },
  {
   "cell_type": "code",
   "execution_count": 1,
   "metadata": {
    "hideCode": false,
    "hidePrompt": false
   },
   "outputs": [],
   "source": [
    "import os\n",
    "\n",
    "os.environ[\"TUTORIAL_GRPC_PG_PORT\"] = \"2345\""
   ]
  },
  {
   "cell_type": "markdown",
   "metadata": {
    "hideCode": false,
    "hidePrompt": false
   },
   "source": [
    "## Insert Thing in PG"
   ]
  },
  {
   "cell_type": "code",
   "execution_count": 2,
   "metadata": {
    "hideCode": false,
    "hideOutput": true,
    "hidePrompt": false
   },
   "outputs": [
    {
     "name": "stdout",
     "output_type": "stream",
     "text": [
      "2019-02-22 21:00:31,087 INFO sqlalchemy.engine.base.Engine select version()\n",
      "2019-02-22 21:00:31,088 INFO sqlalchemy.engine.base.Engine {}\n",
      "2019-02-22 21:00:31,091 INFO sqlalchemy.engine.base.Engine select current_schema()\n",
      "2019-02-22 21:00:31,092 INFO sqlalchemy.engine.base.Engine {}\n",
      "2019-02-22 21:00:31,094 INFO sqlalchemy.engine.base.Engine SELECT CAST('test plain returns' AS VARCHAR(60)) AS anon_1\n",
      "2019-02-22 21:00:31,095 INFO sqlalchemy.engine.base.Engine {}\n",
      "2019-02-22 21:00:31,097 INFO sqlalchemy.engine.base.Engine SELECT CAST('test unicode returns' AS VARCHAR(60)) AS anon_1\n",
      "2019-02-22 21:00:31,098 INFO sqlalchemy.engine.base.Engine {}\n",
      "2019-02-22 21:00:31,100 INFO sqlalchemy.engine.base.Engine show standard_conforming_strings\n",
      "2019-02-22 21:00:31,101 INFO sqlalchemy.engine.base.Engine {}\n",
      "2019-02-22 21:00:31,106 INFO sqlalchemy.engine.base.Engine select relname from pg_class c join pg_namespace n on n.oid=c.relnamespace where pg_catalog.pg_table_is_visible(c.oid) and relname=%(name)s\n",
      "2019-02-22 21:00:31,114 INFO sqlalchemy.engine.base.Engine {'name': 'thing'}\n",
      "2019-02-22 21:00:31,124 INFO sqlalchemy.engine.base.Engine BEGIN (implicit)\n",
      "2019-02-22 21:00:31,138 INFO sqlalchemy.engine.base.Engine INSERT INTO thing (name, geom) VALUES (%(name)s, ST_GeomFromEWKT(%(geom)s)) RETURNING thing.id\n",
      "2019-02-22 21:00:31,139 INFO sqlalchemy.engine.base.Engine {'name': 'thing: square', 'geom': 'POLYGON((0 0,1 0,1 1,0 1,0 0))'}\n",
      "2019-02-22 21:00:31,152 INFO sqlalchemy.engine.base.Engine INSERT INTO thing (name, geom) VALUES (%(name)s, ST_GeomFromEWKT(%(geom)s)) RETURNING thing.id\n",
      "2019-02-22 21:00:31,153 INFO sqlalchemy.engine.base.Engine {'name': 'thing: square', 'geom': 'POLYGON((0.2 0.2,1 0.2,1 1,0.2 1,0.2 0.2))'}\n",
      "2019-02-22 21:00:31,157 INFO sqlalchemy.engine.base.Engine COMMIT\n"
     ]
    },
    {
     "name": "stderr",
     "output_type": "stream",
     "text": [
      "/root/.local/share/virtualenvs/2017_GRPC_Tutorial-oVeYm3ns/lib/python3.7/site-packages/psycopg2/__init__.py:144: UserWarning: The psycopg2 wheel package will be renamed from release 2.8; in order to keep installing from binary please use \"pip install psycopg2-binary\" instead. For details see: <http://initd.org/psycopg/docs/install.html#binary-install-from-pypi>.\n",
      "  \"\"\")\n"
     ]
    }
   ],
   "source": [
    "from tutorial.grpc.geodatas.models.models import Thing, session\n",
    "\n",
    "test_thing = Thing(\n",
    "        name=\"thing: square\",\n",
    "        geom='POLYGON((0 0,1 0,1 1,0 1,0 0))'\n",
    "    )\n",
    "session.add(test_thing)\n",
    "\n",
    "test_thing = Thing(\n",
    "        name=\"thing: square\",\n",
    "        geom='POLYGON((0.2 0.2,1 0.2,1 1,0.2 1,0.2 0.2))'\n",
    "    )\n",
    "session.add(test_thing)\n",
    "session.commit()"
   ]
  },
  {
   "cell_type": "markdown",
   "metadata": {
    "hideCode": false,
    "hidePrompt": false
   },
   "source": [
    "## Delete Things"
   ]
  },
  {
   "cell_type": "markdown",
   "metadata": {
    "hideCode": false,
    "hidePrompt": false
   },
   "source": [
    "- https://stackoverflow.com/questions/26643727/python-sqlalchemy-deleting-with-the-session-object"
   ]
  },
  {
   "cell_type": "code",
   "execution_count": 3,
   "metadata": {
    "hideCode": true,
    "hideOutput": false,
    "hidePrompt": true
   },
   "outputs": [],
   "source": [
    "# session.query(Thing).filter(Thing.name==\"thing: square\").delete()\n",
    "# session.commit()\n",
    "\n",
    "# session.query(Thing).delete()\n",
    "# session.commit()"
   ]
  },
  {
   "cell_type": "markdown",
   "metadata": {
    "hideCode": false,
    "hidePrompt": false
   },
   "source": [
    "## Query and Drawing Things in from PostGIS"
   ]
  },
  {
   "cell_type": "markdown",
   "metadata": {
    "hideCode": false,
    "hidePrompt": false
   },
   "source": [
    "- https://stackoverflow.com/questions/47471872/find-non-overlapping-polygons-in-geodataframe\n",
    "- http://geopandas.org/io.html?highlight=read_postgis"
   ]
  },
  {
   "cell_type": "code",
   "execution_count": 4,
   "metadata": {
    "hideCode": true,
    "hidePrompt": true
   },
   "outputs": [],
   "source": [
    "# !pipenv run pip install geopandas matplotlib descartes"
   ]
  },
  {
   "cell_type": "code",
   "execution_count": 42,
   "metadata": {
    "hideCode": false,
    "hideOutput": true,
    "hidePrompt": false
   },
   "outputs": [
    {
     "name": "stdout",
     "output_type": "stream",
     "text": [
      "2019-02-23 02:04:39,609 INFO sqlalchemy.engine.base.Engine select relname from pg_class c join pg_namespace n on n.oid=c.relnamespace where pg_catalog.pg_table_is_visible(c.oid) and relname=%(name)s\n",
      "2019-02-23 02:04:39,613 INFO sqlalchemy.engine.base.Engine {'name': 'SELECT * from thing;'}\n",
      "2019-02-23 02:04:39,618 INFO sqlalchemy.engine.base.Engine SELECT * from thing;\n",
      "2019-02-23 02:04:39,620 INFO sqlalchemy.engine.base.Engine {}\n"
     ]
    }
   ],
   "source": [
    "import geopandas as gpd\n",
    "from tutorial.grpc.geodatas.models.models import engine\n",
    "\n",
    "gdf = gpd.read_postgis('''SELECT * from thing;''', engine)"
   ]
  },
  {
   "cell_type": "code",
   "execution_count": 43,
   "metadata": {
    "hideCode": false,
    "hideOutput": false,
    "hidePrompt": false
   },
   "outputs": [
    {
     "data": {
      "text/html": [
       "<div>\n",
       "<style scoped>\n",
       "    .dataframe tbody tr th:only-of-type {\n",
       "        vertical-align: middle;\n",
       "    }\n",
       "\n",
       "    .dataframe tbody tr th {\n",
       "        vertical-align: top;\n",
       "    }\n",
       "\n",
       "    .dataframe thead th {\n",
       "        text-align: right;\n",
       "    }\n",
       "</style>\n",
       "<table border=\"1\" class=\"dataframe\">\n",
       "  <thead>\n",
       "    <tr style=\"text-align: right;\">\n",
       "      <th></th>\n",
       "      <th>id</th>\n",
       "      <th>name</th>\n",
       "      <th>geom</th>\n",
       "    </tr>\n",
       "  </thead>\n",
       "  <tbody>\n",
       "    <tr>\n",
       "      <th>0</th>\n",
       "      <td>1</td>\n",
       "      <td>thing: square</td>\n",
       "      <td>POLYGON ((0 0, 1 0, 1 1, 0 1, 0 0))</td>\n",
       "    </tr>\n",
       "    <tr>\n",
       "      <th>1</th>\n",
       "      <td>2</td>\n",
       "      <td>thing: square</td>\n",
       "      <td>POLYGON ((0.2 0.2, 1 0.2, 1 1, 0.2 1, 0.2 0.2))</td>\n",
       "    </tr>\n",
       "  </tbody>\n",
       "</table>\n",
       "</div>"
      ],
      "text/plain": [
       "   id           name                                             geom\n",
       "0   1  thing: square              POLYGON ((0 0, 1 0, 1 1, 0 1, 0 0))\n",
       "1   2  thing: square  POLYGON ((0.2 0.2, 1 0.2, 1 1, 0.2 1, 0.2 0.2))"
      ]
     },
     "execution_count": 43,
     "metadata": {},
     "output_type": "execute_result"
    }
   ],
   "source": [
    "gdf"
   ]
  },
  {
   "cell_type": "code",
   "execution_count": 44,
   "metadata": {
    "hideCode": false,
    "hidePrompt": false
   },
   "outputs": [
    {
     "data": {
      "image/png": "[encoded data removed]",
      "text/plain": [
       "<Figure size 432x288 with 1 Axes>"
      ]
     },
     "metadata": {
      "needs_background": "light"
     },
     "output_type": "display_data"
    }
   ],
   "source": [
    "if not gdf.empty:\n",
    "    gdf.plot(alpha=0.50)"
   ]
  }
 ],
 "metadata": {
  "celltoolbar": "Raw Cell Format",
  "hide_code_all_hidden": false,
  "kernelspec": {
   "display_name": "2017_GRPC_Tutorial",
   "language": "python",
   "name": "2017_grpc_tutorial"
  },
  "language_info": {
   "codemirror_mode": {
    "name": "ipython",
    "version": 3
   },
   "file_extension": ".py",
   "mimetype": "text/x-python",
   "name": "python",
   "nbconvert_exporter": "python",
   "pygments_lexer": "ipython3",
   "version": "3.7.2"
  }
 },
 "nbformat": 4,
 "nbformat_minor": 2
}
