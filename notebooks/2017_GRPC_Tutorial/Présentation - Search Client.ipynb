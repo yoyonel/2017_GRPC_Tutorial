{
 "cells": [
  {
   "cell_type": "code",
   "execution_count": 35,
   "metadata": {
    "hideCode": false,
    "hideOutput": false,
    "hidePrompt": true,
    "slideshow": {
     "slide_type": "notes"
    }
   },
   "outputs": [
    {
     "name": "stdout",
     "output_type": "stream",
     "text": [
      "\u001b[01;34m../../src/tutorial/grpc/geodatas\u001b[00m\r\n",
      "├── __init__.py\r\n",
      "├── \u001b[01;34mcommon\u001b[00m\r\n",
      "│   ├── __init__.py\r\n",
      "│   └── base.py\r\n",
      "├── \u001b[01;34mmodels\u001b[00m\r\n",
      "│   ├── __init__.py\r\n",
      "│   ├── ogrgeojson.py\r\n",
      "│   └── thing.py\r\n",
      "├── \u001b[01;34mproto\u001b[00m\r\n",
      "│   ├── __init__.py\r\n",
      "│   ├── search.proto\r\n",
      "│   ├── search_pb2.py\r\n",
      "│   └── search_pb2_grpc.py\r\n",
      "├── \u001b[01;34mrpc\u001b[00m\r\n",
      "│   ├── __init__.py\r\n",
      "│   └── search_servicer.py\r\n",
      "├── search_client.py\r\n",
      "├── search_server.py\r\n",
      "└── \u001b[01;34mtools\u001b[00m\r\n",
      "    ├── __init__.py\r\n",
      "    ├── geometry.py\r\n",
      "    ├── rpc_stub.py\r\n",
      "    └── service_discovery.py\r\n",
      "\r\n",
      "5 directories, 18 files\r\n"
     ]
    }
   ],
   "source": [
    "!tree -C ../../src/tutorial/grpc/geodatas"
   ]
  },
  {
   "cell_type": "markdown",
   "metadata": {
    "slideshow": {
     "slide_type": "slide"
    }
   },
   "source": [
    "# Search Client"
   ]
  },
  {
   "cell_type": "code",
   "execution_count": null,
   "metadata": {
    "hideOutput": true,
    "hidePrompt": true,
    "slideshow": {
     "slide_type": "subslide"
    }
   },
   "outputs": [],
   "source": [
    "../../src/tutorial/grpc/geodatas\n",
    "├── __init__.py\n",
    "├── common\n",
    "│   ├── __init__.py\n",
    "│   └── base.py\n",
    "├── models\n",
    "│   ├── __init__.py\n",
    "│   ├── ogrgeojson.py\n",
    "│   └── thing.py\n",
    "├── proto\n",
    "│   ├── __init__.py\n",
    "│   ├── search.proto\n",
    "│   ├── search_pb2.py      ((*))\n",
    "│   └── search_pb2_grpc.py ((*))\n",
    "├── rpc\n",
    "│   ├── __init__.py\n",
    "│   └── search_servicer.py (*)\n",
    "├── search_client.py (*)\n",
    "├── search_server.py\n",
    "└── tools\n",
    "    ├── __init__.py\n",
    "    ├── geometry.py\n",
    "    ├── rpc_stub.py (*)\n",
    "    └── service_discovery.py (*)\n"
   ]
  },
  {
   "cell_type": "markdown",
   "metadata": {
    "hidePrompt": true,
    "slideshow": {
     "slide_type": "-"
    }
   },
   "source": [
    "- (*)   Files focus\n",
    "- ((*)) Generated files"
   ]
  },
  {
   "cell_type": "markdown",
   "metadata": {
    "slideshow": {
     "slide_type": "slide"
    }
   },
   "source": [
    "## Application"
   ]
  },
  {
   "cell_type": "code",
   "execution_count": 33,
   "metadata": {
    "hideCode": false,
    "hideOutput": true,
    "hidePrompt": true,
    "slideshow": {
     "slide_type": "-"
    }
   },
   "outputs": [
    {
     "ename": "ModuleNotFoundError",
     "evalue": "No module named 'tutorial.grpc.geodatas.tools.rpc_stub'",
     "output_type": "error",
     "traceback": [
      "\u001b[0;31m---------------------------------------------------------------------------\u001b[0m",
      "\u001b[0;31mModuleNotFoundError\u001b[0m                       Traceback (most recent call last)",
      "\u001b[0;32m<ipython-input-33-36b0c719bd70>\u001b[0m in \u001b[0;36m<module>\u001b[0;34m\u001b[0m\n\u001b[1;32m      6\u001b[0m \u001b[0;34m\u001b[0m\u001b[0m\n\u001b[1;32m      7\u001b[0m \u001b[0;32mfrom\u001b[0m \u001b[0mtutorial\u001b[0m\u001b[0;34m.\u001b[0m\u001b[0mgrpc\u001b[0m\u001b[0;34m.\u001b[0m\u001b[0mgeodatas\u001b[0m\u001b[0;34m.\u001b[0m\u001b[0mproto\u001b[0m \u001b[0;32mimport\u001b[0m \u001b[0msearch_pb2_grpc\u001b[0m\u001b[0;34m,\u001b[0m \u001b[0msearch_pb2\u001b[0m\u001b[0;34m\u001b[0m\u001b[0;34m\u001b[0m\u001b[0m\n\u001b[0;32m----> 8\u001b[0;31m \u001b[0;32mfrom\u001b[0m \u001b[0mtutorial\u001b[0m\u001b[0;34m.\u001b[0m\u001b[0mgrpc\u001b[0m\u001b[0;34m.\u001b[0m\u001b[0mgeodatas\u001b[0m\u001b[0;34m.\u001b[0m\u001b[0mtools\u001b[0m\u001b[0;34m.\u001b[0m\u001b[0mrpc_stub\u001b[0m \u001b[0;32mimport\u001b[0m \u001b[0mget_search_rpc_stub_with_consul\u001b[0m\u001b[0;34m\u001b[0m\u001b[0;34m\u001b[0m\u001b[0m\n\u001b[0m\u001b[1;32m      9\u001b[0m \u001b[0;34m\u001b[0m\u001b[0m\n\u001b[1;32m     10\u001b[0m \u001b[0mlogger\u001b[0m \u001b[0;34m=\u001b[0m \u001b[0mlogging\u001b[0m\u001b[0;34m.\u001b[0m\u001b[0mgetLogger\u001b[0m\u001b[0;34m(\u001b[0m\u001b[0m__name__\u001b[0m\u001b[0;34m)\u001b[0m\u001b[0;34m\u001b[0m\u001b[0;34m\u001b[0m\u001b[0m\n",
      "\u001b[0;31mModuleNotFoundError\u001b[0m: No module named 'tutorial.grpc.geodatas.tools.rpc_stub'"
     ]
    }
   ],
   "source": [
    "# %load ../../src/tutorial/grpc/geodatas/search_client.py\n",
    "import argparse\n",
    "import logging\n",
    "\n",
    "from tutorial.grpc.geodatas.proto import search_pb2_grpc, search_pb2\n",
    "from tutorial.grpc.geodatas.tools.rpc_stub import get_search_rpc_stub_with_consul\n",
    "\n",
    "logger = logging.getLogger(__name__)\n",
    "\n",
    "\n",
    "def process_request_position(search_service_stub: search_pb2_grpc.SearchStub, lat: float, lng: float):\n",
    "    [...]\n",
    "    \n",
    "\n",
    "def process(args):\n",
    "    [...]\n",
    "\n",
    "\n",
    "def main():\n",
    "    args = parse_arguments()\n",
    "    process(args)"
   ]
  },
  {
   "cell_type": "markdown",
   "metadata": {
    "slideshow": {
     "slide_type": "subslide"
    }
   },
   "source": [
    "### Processing - Consul (as services registry)"
   ]
  },
  {
   "cell_type": "code",
   "execution_count": null,
   "metadata": {
    "hidePrompt": true,
    "slideshow": {
     "slide_type": "-"
    }
   },
   "outputs": [],
   "source": [
    "# %load ../../src/tutorial/grpc/geodatas/search_client.py\n",
    "from tutorial.grpc.geodatas.proto import search_pb2_grpc, search_pb2\n",
    "from tutorial.grpc.geodatas.tools.rpc_stub import get_search_rpc_stub_with_consul\n",
    "\n",
    "logger = logging.getLogger(__name__)\n",
    "\n",
    "\n",
    "def process_request_position(search_service_stub: search_pb2_grpc.SearchStub, lat: float, lng: float):\n",
    "    [...]\n",
    "    \n",
    "\n",
    "def process(args):\n",
    "    search_service_stub = get_search_rpc_stub_with_consul(args.consul_resolver_port,\n",
    "                                                          args.consul_resolver_nameservers,\n",
    "                                                          args.consul_resolver_nameservice)\n",
    "\n",
    "    if args.monitor:\n",
    "        process_monitor(search_service_stub)\n",
    "\n",
    "    if args.request_position_latlng:\n",
    "        process_request_position(search_service_stub, *args.request_position_latlng)"
   ]
  },
  {
   "cell_type": "markdown",
   "metadata": {
    "slideshow": {
     "slide_type": "subslide"
    }
   },
   "source": [
    "#### Tools - Consul + gRPC stub"
   ]
  },
  {
   "cell_type": "code",
   "execution_count": null,
   "metadata": {
    "hidePrompt": true,
    "slideshow": {
     "slide_type": "-"
    }
   },
   "outputs": [],
   "source": [
    "# %load ../../src/tutorial/grpc/geodatas/tools/rpc_stub.py\n",
    "from grpc import insecure_channel\n",
    "from tutorial.grpc.geodatas.proto import search_pb2_grpc\n",
    "from tutorial.grpc.geodatas.tools.service_discovery import find_service_with_consul\n",
    "\n",
    "\n",
    "def get_search_rpc_stub(ip: str, port: int) -> search_pb2_grpc.SearchStub:\n",
    "    logger.info(f\"creating grpc client based on consul data: ip={ip} port={port}\")\n",
    "    channel = grpc.insecure_channel(f'{ip}:{port}')\n",
    "    stub = search_pb2_grpc.SearchStub(channel)\n",
    "    return stub\n",
    "\n",
    "\n",
    "def get_search_rpc_stub_with_consul(consul_resolver_port: int,\n",
    "                                    consul_resolver_nameservers: List[str],\n",
    "                                    consul_resolver_nameservice: str) -> search_pb2_grpc.SearchStub:\n",
    "    search_service_ip, search_service_port = find_service_with_consul(consul_resolver_port,\n",
    "                                                                      consul_resolver_nameservers,\n",
    "                                                                      consul_resolver_nameservice)\n",
    "\n",
    "    return get_search_rpc_stub(search_service_ip, search_service_port)"
   ]
  },
  {
   "cell_type": "markdown",
   "metadata": {
    "slideshow": {
     "slide_type": "subslide"
    }
   },
   "source": [
    "### Processing - Consul (as service registry)"
   ]
  },
  {
   "cell_type": "code",
   "execution_count": null,
   "metadata": {
    "hidePrompt": true,
    "slideshow": {
     "slide_type": "-"
    }
   },
   "outputs": [],
   "source": [
    "# %load ../../src/tutorial/grpc/geodatas/search_client.py\n",
    "from tutorial.grpc.geodatas.proto import search_pb2_grpc, search_pb2\n",
    "from tutorial.grpc.geodatas.tools.rpc_stub import get_search_rpc_stub_with_consul\n",
    "\n",
    "logger = logging.getLogger(__name__)\n",
    "\n",
    "\n",
    "def process_request_position(search_service_stub: search_pb2_grpc.SearchStub, lat: float, lng: float):\n",
    "    [...]\n",
    "    \n",
    "\n",
    "def process(args):\n",
    "    search_service_stub = get_search_rpc_stub_with_consul(args.consul_resolver_port,\n",
    "                                                          args.consul_resolver_nameservers,\n",
    "                                                          args.consul_resolver_nameservice)\n",
    "\n",
    "    if args.monitor:\n",
    "        process_monitor(search_service_stub)\n",
    "\n",
    "    if args.request_position_latlng:\n",
    "        process_request_position(search_service_stub, *args.request_position_latlng)"
   ]
  },
  {
   "cell_type": "markdown",
   "metadata": {
    "slideshow": {
     "slide_type": "subslide"
    }
   },
   "source": [
    "### Processing - Request position"
   ]
  },
  {
   "cell_type": "code",
   "execution_count": null,
   "metadata": {
    "hideOutput": false,
    "hidePrompt": true,
    "slideshow": {
     "slide_type": "-"
    }
   },
   "outputs": [],
   "source": [
    "# %load ../../src/tutorial/grpc/geodatas/search_client.py\n",
    "from tutorial.grpc.geodatas.proto import search_pb2_grpc, search_pb2\n",
    "from tutorial.grpc.geodatas.tools.rpc_stub import get_search_rpc_stub_with_consul\n",
    "\n",
    "logger = logging.getLogger(__name__)\n",
    "\n",
    "\n",
    "def process_request_position(search_service_stub: search_pb2_grpc.SearchStub, lat: float, lng: float):\n",
    "    req = search_pb2.SearchRequest(query=\"search_client\", lat=lat, lng=lng, result_per_page=10)\n",
    "    logger.debug(\"sending request: {}\".format(req))\n",
    "    resp = search_service_stub.search(req)\n",
    "    logger.debug(\"received response: {}\".format(resp if resp else 'None'))\n",
    "    \n",
    "\n",
    "def process(args):\n",
    "    [...]"
   ]
  },
  {
   "cell_type": "code",
   "execution_count": null,
   "metadata": {
    "hidePrompt": true,
    "slideshow": {
     "slide_type": "fragment"
    }
   },
   "outputs": [],
   "source": [
    "# %load ../../src/tutorial/grpc/geodatas/proto/search_pb2_grpc.py\n",
    "class SearchStub(object):\n",
    "    def __init__(self, channel):\n",
    "        self.monitor = [...]\n",
    "        self.search = channel.unary_unary(\n",
    "            '/Search/search',\n",
    "            request_serializer=tutorial_dot_grpc_dot_geodatas_dot_proto_dot_search__pb2.SearchRequest.SerializeToString,\n",
    "            response_deserializer=tutorial_dot_grpc_dot_geodatas_dot_proto_dot_search__pb2.SearchResponses.FromString,\n",
    "            )"
   ]
  },
  {
   "cell_type": "markdown",
   "metadata": {
    "slideshow": {
     "slide_type": "slide"
    }
   },
   "source": [
    "## Execution logs of Search Client"
   ]
  },
  {
   "cell_type": "code",
   "execution_count": null,
   "metadata": {
    "hideCode": false,
    "hideOutput": true,
    "hidePrompt": true,
    "slideshow": {
     "slide_type": "-"
    }
   },
   "outputs": [],
   "source": [
    "$ python search_client.py --request_position_latlng 4.850000 45.750000 --m\n",
    "2019-02-24 10:06:35,599 - __main__ - INFO - creating grpc client based on consul data: ip=127.0.0.1 port=54813\n",
    "2019-02-24 10:06:35,612 - __main__ - DEBUG - monitor response: n_things: 4\n",
    "\n",
    "2019-02-24 10:06:35,612 - __main__ - DEBUG - sending request: query: \"search_client\"\n",
    "result_per_page: 10\n",
    "lat: 4.849999904632568\n",
    "lng: 45.75\n",
    "\n",
    "2019-02-24 10:06:35,630 - __main__ - DEBUG - received response: responses {\n",
    "  response: \"69123 - Lyon - fr:Lyon\"\n",
    "}"
   ]
  }
 ],
 "metadata": {
  "celltoolbar": "Slideshow",
  "kernelspec": {
   "display_name": "2017_GRPC_Tutorial",
   "language": "python",
   "name": "2017_grpc_tutorial"
  },
  "language_info": {
   "codemirror_mode": {
    "name": "ipython",
    "version": 3
   },
   "file_extension": ".py",
   "mimetype": "text/x-python",
   "name": "python",
   "nbconvert_exporter": "python",
   "pygments_lexer": "ipython3",
   "version": "3.7.2"
  }
 },
 "nbformat": 4,
 "nbformat_minor": 2
}
